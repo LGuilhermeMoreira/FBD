{
 "cells": [
  {
   "cell_type": "markdown",
   "id": "72f7dae1",
   "metadata": {},
   "source": [
    "**Bibliotecas Necessárias**"
   ]
  },
  {
   "cell_type": "code",
   "execution_count": 4,
   "id": "fe358e32",
   "metadata": {},
   "outputs": [],
   "source": [
    "import psycopg2 as pg\n",
    "import pandas as pd\n",
    "import ipywidgets as widgets\n",
    "from IPython.display import display"
   ]
  },
  {
   "cell_type": "markdown",
   "id": "2e01cc98",
   "metadata": {},
   "source": [
    "**Conexão com o Banco de Dados PostgreSQL**"
   ]
  },
  {
   "cell_type": "code",
   "execution_count": 5,
   "id": "38ce4a37",
   "metadata": {},
   "outputs": [],
   "source": [
    "#con = pg.connect(host='localhost', dbname= 'projeto-fbd', user='postgres', password= 'lxor8uqt')\n",
    "con = pg.connect(database=\"projeto-fbd\",host=\"localhost\",port=5432,user='postgres',password='198019')"
   ]
  },
  {
   "cell_type": "markdown",
   "id": "716a1bcc",
   "metadata": {},
   "source": [
    "**Widgets**"
   ]
  },
  {
   "cell_type": "code",
   "execution_count": 7,
   "id": "974f79ac",
   "metadata": {},
   "outputs": [],
   "source": [
    "tempo = widgets.Text(\n",
    "    value='',\n",
    "    placeholder = 'Digite o tempo da atividade física',\n",
    "    description = 'Tempo:',\n",
    "    disabled = False\n",
    ")\n",
    "\n",
    "tipo = widgets.Text(\n",
    "    value = '',\n",
    "    placeholder = 'Digite o tipo de atividade física',\n",
    "    description = 'Tipo Atividade Física:',\n",
    "    disabled = False\n",
    ")\n",
    "\n",
    "objetivo = widgets.Text (\n",
    "    value = '',\n",
    "    placeholder = 'Digite qual o objetivo da sua atividade', \n",
    "    description = 'Objetivo: ', \n",
    "    disabled = False\n",
    ")\n",
    "\n",
    "atividadeid = widgets.Text(\n",
    "    value = '',\n",
    "    placeholder = 'Digite o ID da atividade',\n",
    "    description = 'ID da Atividade:',\n",
    "    disabled = False\n",
    ")\n",
    "\n",
    "cpfusuario = widgets.Text(\n",
    "    value = '',\n",
    "    placeholder = 'Digite o CPF do usuário',\n",
    "    description = 'CPF do Usuário:',\n",
    "    disabled = False\n",
    ")"
   ]
  },
  {
   "cell_type": "markdown",
   "id": "265bef6f",
   "metadata": {},
   "source": [
    "**Criação dos Botões**"
   ]
  },
  {
   "cell_type": "code",
   "execution_count": 11,
   "id": "7cf865b9",
   "metadata": {},
   "outputs": [
    {
     "name": "stdout",
     "output_type": "stream",
     "text": [
      "Dados inseridos com sucesso!\n"
     ]
    },
    {
     "name": "stderr",
     "output_type": "stream",
     "text": [
      "/tmp/ipykernel_30615/1873450775.py:8: UserWarning: pandas only supports SQLAlchemy connectable (engine/connection) or database string URI or sqlite3 DBAPI2 connection. Other DBAPI2 objects are not tested. Please consider using SQLAlchemy.\n",
      "  df = pd.read_sql_query(\"SELECT * FROM atividade_fisica\", con)\n"
     ]
    },
    {
     "data": {
      "application/vnd.jupyter.widget-view+json": {
       "model_id": "95b40907caf2447a9f4da8f05c844360",
       "version_major": 2,
       "version_minor": 0
      },
      "text/plain": [
       "Text(value='10 min', description='Tempo:', placeholder='Digite o tempo da atividade física')"
      ]
     },
     "metadata": {},
     "output_type": "display_data"
    },
    {
     "data": {
      "application/vnd.jupyter.widget-view+json": {
       "model_id": "41bd971aae024882a8cf8fab1fa0f736",
       "version_major": 2,
       "version_minor": 0
      },
      "text/plain": [
       "Text(value='corrida', description='Tipo Atividade Física:', placeholder='Digite o tipo de atividade física')"
      ]
     },
     "metadata": {},
     "output_type": "display_data"
    },
    {
     "data": {
      "application/vnd.jupyter.widget-view+json": {
       "model_id": "b34106ac5f0043a9af192e2238c8e193",
       "version_major": 2,
       "version_minor": 0
      },
      "text/plain": [
       "Text(value='perca de pika', description='Objetivo: ', placeholder='Digite qual o objetivo da sua atividade')"
      ]
     },
     "metadata": {},
     "output_type": "display_data"
    },
    {
     "data": {
      "application/vnd.jupyter.widget-view+json": {
       "model_id": "63874894afb044088e950bc2d642d3f9",
       "version_major": 2,
       "version_minor": 0
      },
      "text/plain": [
       "Text(value='20', description='ID da Atividade:', placeholder='Digite o ID da atividade')"
      ]
     },
     "metadata": {},
     "output_type": "display_data"
    },
    {
     "data": {
      "application/vnd.jupyter.widget-view+json": {
       "model_id": "9d293b05dd7b454f89218eb4362dead7",
       "version_major": 2,
       "version_minor": 0
      },
      "text/plain": [
       "Text(value='12345678901', description='CPF do Usuário:', placeholder='Digite o CPF do usuário')"
      ]
     },
     "metadata": {},
     "output_type": "display_data"
    },
    {
     "data": {
      "text/html": [
       "<div>\n",
       "<style scoped>\n",
       "    .dataframe tbody tr th:only-of-type {\n",
       "        vertical-align: middle;\n",
       "    }\n",
       "\n",
       "    .dataframe tbody tr th {\n",
       "        vertical-align: top;\n",
       "    }\n",
       "\n",
       "    .dataframe thead th {\n",
       "        text-align: right;\n",
       "    }\n",
       "</style>\n",
       "<table border=\"1\" class=\"dataframe\">\n",
       "  <thead>\n",
       "    <tr style=\"text-align: right;\">\n",
       "      <th></th>\n",
       "      <th>tempo</th>\n",
       "      <th>tipo</th>\n",
       "      <th>objetivo</th>\n",
       "      <th>atividadeid</th>\n",
       "      <th>cpfusuario</th>\n",
       "    </tr>\n",
       "  </thead>\n",
       "  <tbody>\n",
       "    <tr>\n",
       "      <th>0</th>\n",
       "      <td>30 minutos</td>\n",
       "      <td>Caminhada</td>\n",
       "      <td>Perda de Peso</td>\n",
       "      <td>1</td>\n",
       "      <td>12345678901</td>\n",
       "    </tr>\n",
       "    <tr>\n",
       "      <th>1</th>\n",
       "      <td>45 minutos</td>\n",
       "      <td>Natacao</td>\n",
       "      <td>Ganho de Massa Muscular</td>\n",
       "      <td>2</td>\n",
       "      <td>23456789012</td>\n",
       "    </tr>\n",
       "    <tr>\n",
       "      <th>2</th>\n",
       "      <td>60 minutos</td>\n",
       "      <td>Corrida</td>\n",
       "      <td>Melhoria da Saude</td>\n",
       "      <td>3</td>\n",
       "      <td>34567890123</td>\n",
       "    </tr>\n",
       "    <tr>\n",
       "      <th>3</th>\n",
       "      <td>20 minutos</td>\n",
       "      <td>Yoga</td>\n",
       "      <td>Reducao de Estresse</td>\n",
       "      <td>4</td>\n",
       "      <td>45678901234</td>\n",
       "    </tr>\n",
       "    <tr>\n",
       "      <th>4</th>\n",
       "      <td>40 minutos</td>\n",
       "      <td>Musculacao</td>\n",
       "      <td>Ganho de Massa Muscular</td>\n",
       "      <td>5</td>\n",
       "      <td>56789012345</td>\n",
       "    </tr>\n",
       "    <tr>\n",
       "      <th>5</th>\n",
       "      <td>30 minutos</td>\n",
       "      <td>Danca</td>\n",
       "      <td>Diversão e Fitness</td>\n",
       "      <td>6</td>\n",
       "      <td>67890123456</td>\n",
       "    </tr>\n",
       "    <tr>\n",
       "      <th>6</th>\n",
       "      <td>45 minutos</td>\n",
       "      <td>Ciclismo</td>\n",
       "      <td>Melhoria da Saude</td>\n",
       "      <td>7</td>\n",
       "      <td>78901234567</td>\n",
       "    </tr>\n",
       "    <tr>\n",
       "      <th>7</th>\n",
       "      <td>30 minutos</td>\n",
       "      <td>Caminhada</td>\n",
       "      <td>Melhoria da Saude</td>\n",
       "      <td>8</td>\n",
       "      <td>89012345678</td>\n",
       "    </tr>\n",
       "    <tr>\n",
       "      <th>8</th>\n",
       "      <td>60 minutos</td>\n",
       "      <td>Natacao</td>\n",
       "      <td>Ganho de Massa Muscular</td>\n",
       "      <td>9</td>\n",
       "      <td>90123456789</td>\n",
       "    </tr>\n",
       "    <tr>\n",
       "      <th>9</th>\n",
       "      <td>20 minutos</td>\n",
       "      <td>Yoga</td>\n",
       "      <td>Reducao de Estresse</td>\n",
       "      <td>10</td>\n",
       "      <td>01234567890</td>\n",
       "    </tr>\n",
       "    <tr>\n",
       "      <th>10</th>\n",
       "      <td>10 min</td>\n",
       "      <td>corrida</td>\n",
       "      <td>perca de pika</td>\n",
       "      <td>20</td>\n",
       "      <td>12345678901</td>\n",
       "    </tr>\n",
       "  </tbody>\n",
       "</table>\n",
       "</div>"
      ],
      "text/plain": [
       "         tempo        tipo                 objetivo  atividadeid   cpfusuario\n",
       "0   30 minutos   Caminhada            Perda de Peso            1  12345678901\n",
       "1   45 minutos     Natacao  Ganho de Massa Muscular            2  23456789012\n",
       "2   60 minutos     Corrida        Melhoria da Saude            3  34567890123\n",
       "3   20 minutos        Yoga      Reducao de Estresse            4  45678901234\n",
       "4   40 minutos  Musculacao  Ganho de Massa Muscular            5  56789012345\n",
       "5   30 minutos       Danca       Diversão e Fitness            6  67890123456\n",
       "6   45 minutos    Ciclismo        Melhoria da Saude            7  78901234567\n",
       "7   30 minutos   Caminhada        Melhoria da Saude            8  89012345678\n",
       "8   60 minutos     Natacao  Ganho de Massa Muscular            9  90123456789\n",
       "9   20 minutos        Yoga      Reducao de Estresse           10  01234567890\n",
       "10      10 min     corrida            perca de pika           20  12345678901"
      ]
     },
     "metadata": {},
     "output_type": "display_data"
    },
    {
     "ename": "UnboundLocalError",
     "evalue": "local variable 'df' referenced before assignment",
     "output_type": "error",
     "traceback": [
      "\u001b[0;31m---------------------------------------------------------------------------\u001b[0m",
      "\u001b[0;31mUniqueViolation\u001b[0m                           Traceback (most recent call last)",
      "\u001b[1;32m/home/guigui/Dev/projeto-fbd/notebooks/crud notebook/atividadeFisica-CRUD.ipynb Célula 8\u001b[0m line \u001b[0;36m4\n\u001b[1;32m      <a href='vscode-notebook-cell:/home/guigui/Dev/projeto-fbd/notebooks/crud%20notebook/atividadeFisica-CRUD.ipynb#X10sZmlsZQ%3D%3D?line=2'>3</a>\u001b[0m cursor \u001b[39m=\u001b[39m con\u001b[39m.\u001b[39mcursor()\n\u001b[0;32m----> <a href='vscode-notebook-cell:/home/guigui/Dev/projeto-fbd/notebooks/crud%20notebook/atividadeFisica-CRUD.ipynb#X10sZmlsZQ%3D%3D?line=3'>4</a>\u001b[0m cursor\u001b[39m.\u001b[39;49mexecute(\u001b[39m\"\u001b[39;49m\u001b[39mINSERT INTO atividade_fisica (tempo, tipo, objetivo, atividadeid, cpfusuario) VALUES (\u001b[39;49m\u001b[39m%s\u001b[39;49;00m\u001b[39m, \u001b[39;49m\u001b[39m%s\u001b[39;49;00m\u001b[39m, \u001b[39;49m\u001b[39m%s\u001b[39;49;00m\u001b[39m, \u001b[39;49m\u001b[39m%s\u001b[39;49;00m\u001b[39m, \u001b[39;49m\u001b[39m%s\u001b[39;49;00m\u001b[39m)\u001b[39;49m\u001b[39m\"\u001b[39;49m, (tempo\u001b[39m.\u001b[39;49mvalue, tipo\u001b[39m.\u001b[39;49mvalue, objetivo\u001b[39m.\u001b[39;49mvalue, atividadeid\u001b[39m.\u001b[39;49mvalue, cpfusuario\u001b[39m.\u001b[39;49mvalue))\n\u001b[1;32m      <a href='vscode-notebook-cell:/home/guigui/Dev/projeto-fbd/notebooks/crud%20notebook/atividadeFisica-CRUD.ipynb#X10sZmlsZQ%3D%3D?line=4'>5</a>\u001b[0m con\u001b[39m.\u001b[39mcommit()\n",
      "\u001b[0;31mUniqueViolation\u001b[0m: duplicate key value violates unique constraint \"atividade_fisica_pkey\"\nDETAIL:  Key (atividadeid)=(20) already exists.\n",
      "\nDuring handling of the above exception, another exception occurred:\n",
      "\u001b[0;31mUnboundLocalError\u001b[0m                         Traceback (most recent call last)",
      "\u001b[1;32m/home/guigui/Dev/projeto-fbd/notebooks/crud notebook/atividadeFisica-CRUD.ipynb Célula 8\u001b[0m line \u001b[0;36m1\n\u001b[1;32m     <a href='vscode-notebook-cell:/home/guigui/Dev/projeto-fbd/notebooks/crud%20notebook/atividadeFisica-CRUD.ipynb#X10sZmlsZQ%3D%3D?line=12'>13</a>\u001b[0m     cursor\u001b[39m.\u001b[39mexecute(\u001b[39m\"\u001b[39m\u001b[39mROLLBACK\u001b[39m\u001b[39m\"\u001b[39m)\n\u001b[1;32m     <a href='vscode-notebook-cell:/home/guigui/Dev/projeto-fbd/notebooks/crud%20notebook/atividadeFisica-CRUD.ipynb#X10sZmlsZQ%3D%3D?line=13'>14</a>\u001b[0m     output\u001b[39m.\u001b[39mclear_output()\n\u001b[0;32m---> <a href='vscode-notebook-cell:/home/guigui/Dev/projeto-fbd/notebooks/crud%20notebook/atividadeFisica-CRUD.ipynb#X10sZmlsZQ%3D%3D?line=14'>15</a>\u001b[0m     display(tempo, tipo, objetivo, atividadeid, cpfusuario, df)\n\u001b[1;32m     <a href='vscode-notebook-cell:/home/guigui/Dev/projeto-fbd/notebooks/crud%20notebook/atividadeFisica-CRUD.ipynb#X10sZmlsZQ%3D%3D?line=15'>16</a>\u001b[0m     \u001b[39mprint\u001b[39m(\u001b[39m\"\u001b[39m\u001b[39mFalha ao inserir Atividade Física\u001b[39m\u001b[39m\"\u001b[39m, error)\n\u001b[1;32m     <a href='vscode-notebook-cell:/home/guigui/Dev/projeto-fbd/notebooks/crud%20notebook/atividadeFisica-CRUD.ipynb#X10sZmlsZQ%3D%3D?line=17'>18</a>\u001b[0m \u001b[39mfinally\u001b[39;00m:\n",
      "\u001b[0;31mUnboundLocalError\u001b[0m: local variable 'df' referenced before assignment"
     ]
    },
    {
     "name": "stderr",
     "output_type": "stream",
     "text": [
      "/tmp/ipykernel_30615/604210846.py:7: UserWarning: pandas only supports SQLAlchemy connectable (engine/connection) or database string URI or sqlite3 DBAPI2 connection. Other DBAPI2 objects are not tested. Please consider using SQLAlchemy.\n",
      "  df = pd.read_sql_query(\"SELECT * FROM atividade_fisica WHERE tipo = %s\", con, params=(tipo.value,))\n"
     ]
    },
    {
     "data": {
      "application/vnd.jupyter.widget-view+json": {
       "model_id": "41bd971aae024882a8cf8fab1fa0f736",
       "version_major": 2,
       "version_minor": 0
      },
      "text/plain": [
       "Text(value='corrida', description='Tipo Atividade Física:', placeholder='Digite o tipo de atividade física')"
      ]
     },
     "metadata": {},
     "output_type": "display_data"
    },
    {
     "data": {
      "text/html": [
       "<div>\n",
       "<style scoped>\n",
       "    .dataframe tbody tr th:only-of-type {\n",
       "        vertical-align: middle;\n",
       "    }\n",
       "\n",
       "    .dataframe tbody tr th {\n",
       "        vertical-align: top;\n",
       "    }\n",
       "\n",
       "    .dataframe thead th {\n",
       "        text-align: right;\n",
       "    }\n",
       "</style>\n",
       "<table border=\"1\" class=\"dataframe\">\n",
       "  <thead>\n",
       "    <tr style=\"text-align: right;\">\n",
       "      <th></th>\n",
       "      <th>tempo</th>\n",
       "      <th>tipo</th>\n",
       "      <th>objetivo</th>\n",
       "      <th>atividadeid</th>\n",
       "      <th>cpfusuario</th>\n",
       "    </tr>\n",
       "  </thead>\n",
       "  <tbody>\n",
       "    <tr>\n",
       "      <th>0</th>\n",
       "      <td>10 min</td>\n",
       "      <td>corrida</td>\n",
       "      <td>perca de pika</td>\n",
       "      <td>20</td>\n",
       "      <td>12345678901</td>\n",
       "    </tr>\n",
       "  </tbody>\n",
       "</table>\n",
       "</div>"
      ],
      "text/plain": [
       "    tempo     tipo       objetivo  atividadeid   cpfusuario\n",
       "0  10 min  corrida  perca de pika           20  12345678901"
      ]
     },
     "metadata": {},
     "output_type": "display_data"
    },
    {
     "name": "stderr",
     "output_type": "stream",
     "text": [
      "/tmp/ipykernel_30615/1984633916.py:6: UserWarning: pandas only supports SQLAlchemy connectable (engine/connection) or database string URI or sqlite3 DBAPI2 connection. Other DBAPI2 objects are not tested. Please consider using SQLAlchemy.\n",
      "  df = pd.read_sql_query(\"SELECT * FROM atividade_fisica\", con)\n"
     ]
    },
    {
     "data": {
      "application/vnd.jupyter.widget-view+json": {
       "model_id": "95b40907caf2447a9f4da8f05c844360",
       "version_major": 2,
       "version_minor": 0
      },
      "text/plain": [
       "Text(value='10 min', description='Tempo:', placeholder='Digite o tempo da atividade física')"
      ]
     },
     "metadata": {},
     "output_type": "display_data"
    },
    {
     "data": {
      "application/vnd.jupyter.widget-view+json": {
       "model_id": "41bd971aae024882a8cf8fab1fa0f736",
       "version_major": 2,
       "version_minor": 0
      },
      "text/plain": [
       "Text(value='corrida', description='Tipo Atividade Física:', placeholder='Digite o tipo de atividade física')"
      ]
     },
     "metadata": {},
     "output_type": "display_data"
    },
    {
     "data": {
      "application/vnd.jupyter.widget-view+json": {
       "model_id": "b34106ac5f0043a9af192e2238c8e193",
       "version_major": 2,
       "version_minor": 0
      },
      "text/plain": [
       "Text(value='fwerwe', description='Objetivo: ', placeholder='Digite qual o objetivo da sua atividade')"
      ]
     },
     "metadata": {},
     "output_type": "display_data"
    },
    {
     "data": {
      "application/vnd.jupyter.widget-view+json": {
       "model_id": "63874894afb044088e950bc2d642d3f9",
       "version_major": 2,
       "version_minor": 0
      },
      "text/plain": [
       "Text(value='20', description='ID da Atividade:', placeholder='Digite o ID da atividade')"
      ]
     },
     "metadata": {},
     "output_type": "display_data"
    },
    {
     "data": {
      "application/vnd.jupyter.widget-view+json": {
       "model_id": "9d293b05dd7b454f89218eb4362dead7",
       "version_major": 2,
       "version_minor": 0
      },
      "text/plain": [
       "Text(value='12345678901', description='CPF do Usuário:', placeholder='Digite o CPF do usuário')"
      ]
     },
     "metadata": {},
     "output_type": "display_data"
    },
    {
     "data": {
      "text/html": [
       "<div>\n",
       "<style scoped>\n",
       "    .dataframe tbody tr th:only-of-type {\n",
       "        vertical-align: middle;\n",
       "    }\n",
       "\n",
       "    .dataframe tbody tr th {\n",
       "        vertical-align: top;\n",
       "    }\n",
       "\n",
       "    .dataframe thead th {\n",
       "        text-align: right;\n",
       "    }\n",
       "</style>\n",
       "<table border=\"1\" class=\"dataframe\">\n",
       "  <thead>\n",
       "    <tr style=\"text-align: right;\">\n",
       "      <th></th>\n",
       "      <th>tempo</th>\n",
       "      <th>tipo</th>\n",
       "      <th>objetivo</th>\n",
       "      <th>atividadeid</th>\n",
       "      <th>cpfusuario</th>\n",
       "    </tr>\n",
       "  </thead>\n",
       "  <tbody>\n",
       "    <tr>\n",
       "      <th>0</th>\n",
       "      <td>30 minutos</td>\n",
       "      <td>Caminhada</td>\n",
       "      <td>Perda de Peso</td>\n",
       "      <td>1</td>\n",
       "      <td>12345678901</td>\n",
       "    </tr>\n",
       "    <tr>\n",
       "      <th>1</th>\n",
       "      <td>45 minutos</td>\n",
       "      <td>Natacao</td>\n",
       "      <td>Ganho de Massa Muscular</td>\n",
       "      <td>2</td>\n",
       "      <td>23456789012</td>\n",
       "    </tr>\n",
       "    <tr>\n",
       "      <th>2</th>\n",
       "      <td>60 minutos</td>\n",
       "      <td>Corrida</td>\n",
       "      <td>Melhoria da Saude</td>\n",
       "      <td>3</td>\n",
       "      <td>34567890123</td>\n",
       "    </tr>\n",
       "    <tr>\n",
       "      <th>3</th>\n",
       "      <td>20 minutos</td>\n",
       "      <td>Yoga</td>\n",
       "      <td>Reducao de Estresse</td>\n",
       "      <td>4</td>\n",
       "      <td>45678901234</td>\n",
       "    </tr>\n",
       "    <tr>\n",
       "      <th>4</th>\n",
       "      <td>40 minutos</td>\n",
       "      <td>Musculacao</td>\n",
       "      <td>Ganho de Massa Muscular</td>\n",
       "      <td>5</td>\n",
       "      <td>56789012345</td>\n",
       "    </tr>\n",
       "    <tr>\n",
       "      <th>5</th>\n",
       "      <td>30 minutos</td>\n",
       "      <td>Danca</td>\n",
       "      <td>Diversão e Fitness</td>\n",
       "      <td>6</td>\n",
       "      <td>67890123456</td>\n",
       "    </tr>\n",
       "    <tr>\n",
       "      <th>6</th>\n",
       "      <td>45 minutos</td>\n",
       "      <td>Ciclismo</td>\n",
       "      <td>Melhoria da Saude</td>\n",
       "      <td>7</td>\n",
       "      <td>78901234567</td>\n",
       "    </tr>\n",
       "    <tr>\n",
       "      <th>7</th>\n",
       "      <td>30 minutos</td>\n",
       "      <td>Caminhada</td>\n",
       "      <td>Melhoria da Saude</td>\n",
       "      <td>8</td>\n",
       "      <td>89012345678</td>\n",
       "    </tr>\n",
       "    <tr>\n",
       "      <th>8</th>\n",
       "      <td>60 minutos</td>\n",
       "      <td>Natacao</td>\n",
       "      <td>Ganho de Massa Muscular</td>\n",
       "      <td>9</td>\n",
       "      <td>90123456789</td>\n",
       "    </tr>\n",
       "    <tr>\n",
       "      <th>9</th>\n",
       "      <td>20 minutos</td>\n",
       "      <td>Yoga</td>\n",
       "      <td>Reducao de Estresse</td>\n",
       "      <td>10</td>\n",
       "      <td>01234567890</td>\n",
       "    </tr>\n",
       "    <tr>\n",
       "      <th>10</th>\n",
       "      <td>10 min</td>\n",
       "      <td>corrida</td>\n",
       "      <td>fwerwe</td>\n",
       "      <td>20</td>\n",
       "      <td>12345678901</td>\n",
       "    </tr>\n",
       "  </tbody>\n",
       "</table>\n",
       "</div>"
      ],
      "text/plain": [
       "         tempo        tipo                 objetivo  atividadeid   cpfusuario\n",
       "0   30 minutos   Caminhada            Perda de Peso            1  12345678901\n",
       "1   45 minutos     Natacao  Ganho de Massa Muscular            2  23456789012\n",
       "2   60 minutos     Corrida        Melhoria da Saude            3  34567890123\n",
       "3   20 minutos        Yoga      Reducao de Estresse            4  45678901234\n",
       "4   40 minutos  Musculacao  Ganho de Massa Muscular            5  56789012345\n",
       "5   30 minutos       Danca       Diversão e Fitness            6  67890123456\n",
       "6   45 minutos    Ciclismo        Melhoria da Saude            7  78901234567\n",
       "7   30 minutos   Caminhada        Melhoria da Saude            8  89012345678\n",
       "8   60 minutos     Natacao  Ganho de Massa Muscular            9  90123456789\n",
       "9   20 minutos        Yoga      Reducao de Estresse           10  01234567890\n",
       "10      10 min     corrida                   fwerwe           20  12345678901"
      ]
     },
     "metadata": {},
     "output_type": "display_data"
    },
    {
     "name": "stderr",
     "output_type": "stream",
     "text": [
      "/tmp/ipykernel_30615/3214965618.py:7: UserWarning: pandas only supports SQLAlchemy connectable (engine/connection) or database string URI or sqlite3 DBAPI2 connection. Other DBAPI2 objects are not tested. Please consider using SQLAlchemy.\n",
      "  df = pd.read_sql_query(\"SELECT * FROM atividade_fisica\", con)\n"
     ]
    },
    {
     "data": {
      "application/vnd.jupyter.widget-view+json": {
       "model_id": "63874894afb044088e950bc2d642d3f9",
       "version_major": 2,
       "version_minor": 0
      },
      "text/plain": [
       "Text(value='20', description='ID da Atividade:', placeholder='Digite o ID da atividade')"
      ]
     },
     "metadata": {},
     "output_type": "display_data"
    },
    {
     "data": {
      "text/html": [
       "<div>\n",
       "<style scoped>\n",
       "    .dataframe tbody tr th:only-of-type {\n",
       "        vertical-align: middle;\n",
       "    }\n",
       "\n",
       "    .dataframe tbody tr th {\n",
       "        vertical-align: top;\n",
       "    }\n",
       "\n",
       "    .dataframe thead th {\n",
       "        text-align: right;\n",
       "    }\n",
       "</style>\n",
       "<table border=\"1\" class=\"dataframe\">\n",
       "  <thead>\n",
       "    <tr style=\"text-align: right;\">\n",
       "      <th></th>\n",
       "      <th>tempo</th>\n",
       "      <th>tipo</th>\n",
       "      <th>objetivo</th>\n",
       "      <th>atividadeid</th>\n",
       "      <th>cpfusuario</th>\n",
       "    </tr>\n",
       "  </thead>\n",
       "  <tbody>\n",
       "    <tr>\n",
       "      <th>0</th>\n",
       "      <td>30 minutos</td>\n",
       "      <td>Caminhada</td>\n",
       "      <td>Perda de Peso</td>\n",
       "      <td>1</td>\n",
       "      <td>12345678901</td>\n",
       "    </tr>\n",
       "    <tr>\n",
       "      <th>1</th>\n",
       "      <td>45 minutos</td>\n",
       "      <td>Natacao</td>\n",
       "      <td>Ganho de Massa Muscular</td>\n",
       "      <td>2</td>\n",
       "      <td>23456789012</td>\n",
       "    </tr>\n",
       "    <tr>\n",
       "      <th>2</th>\n",
       "      <td>60 minutos</td>\n",
       "      <td>Corrida</td>\n",
       "      <td>Melhoria da Saude</td>\n",
       "      <td>3</td>\n",
       "      <td>34567890123</td>\n",
       "    </tr>\n",
       "    <tr>\n",
       "      <th>3</th>\n",
       "      <td>20 minutos</td>\n",
       "      <td>Yoga</td>\n",
       "      <td>Reducao de Estresse</td>\n",
       "      <td>4</td>\n",
       "      <td>45678901234</td>\n",
       "    </tr>\n",
       "    <tr>\n",
       "      <th>4</th>\n",
       "      <td>40 minutos</td>\n",
       "      <td>Musculacao</td>\n",
       "      <td>Ganho de Massa Muscular</td>\n",
       "      <td>5</td>\n",
       "      <td>56789012345</td>\n",
       "    </tr>\n",
       "    <tr>\n",
       "      <th>5</th>\n",
       "      <td>30 minutos</td>\n",
       "      <td>Danca</td>\n",
       "      <td>Diversão e Fitness</td>\n",
       "      <td>6</td>\n",
       "      <td>67890123456</td>\n",
       "    </tr>\n",
       "    <tr>\n",
       "      <th>6</th>\n",
       "      <td>45 minutos</td>\n",
       "      <td>Ciclismo</td>\n",
       "      <td>Melhoria da Saude</td>\n",
       "      <td>7</td>\n",
       "      <td>78901234567</td>\n",
       "    </tr>\n",
       "    <tr>\n",
       "      <th>7</th>\n",
       "      <td>30 minutos</td>\n",
       "      <td>Caminhada</td>\n",
       "      <td>Melhoria da Saude</td>\n",
       "      <td>8</td>\n",
       "      <td>89012345678</td>\n",
       "    </tr>\n",
       "    <tr>\n",
       "      <th>8</th>\n",
       "      <td>60 minutos</td>\n",
       "      <td>Natacao</td>\n",
       "      <td>Ganho de Massa Muscular</td>\n",
       "      <td>9</td>\n",
       "      <td>90123456789</td>\n",
       "    </tr>\n",
       "    <tr>\n",
       "      <th>9</th>\n",
       "      <td>20 minutos</td>\n",
       "      <td>Yoga</td>\n",
       "      <td>Reducao de Estresse</td>\n",
       "      <td>10</td>\n",
       "      <td>01234567890</td>\n",
       "    </tr>\n",
       "  </tbody>\n",
       "</table>\n",
       "</div>"
      ],
      "text/plain": [
       "        tempo        tipo                 objetivo  atividadeid   cpfusuario\n",
       "0  30 minutos   Caminhada            Perda de Peso            1  12345678901\n",
       "1  45 minutos     Natacao  Ganho de Massa Muscular            2  23456789012\n",
       "2  60 minutos     Corrida        Melhoria da Saude            3  34567890123\n",
       "3  20 minutos        Yoga      Reducao de Estresse            4  45678901234\n",
       "4  40 minutos  Musculacao  Ganho de Massa Muscular            5  56789012345\n",
       "5  30 minutos       Danca       Diversão e Fitness            6  67890123456\n",
       "6  45 minutos    Ciclismo        Melhoria da Saude            7  78901234567\n",
       "7  30 minutos   Caminhada        Melhoria da Saude            8  89012345678\n",
       "8  60 minutos     Natacao  Ganho de Massa Muscular            9  90123456789\n",
       "9  20 minutos        Yoga      Reducao de Estresse           10  01234567890"
      ]
     },
     "metadata": {},
     "output_type": "display_data"
    }
   ],
   "source": [
    "# Botões do CRUD com descrição\n",
    "\n",
    "button = widgets.Button(description=\"Cadastrar\")\n",
    "button2 = widgets.Button(description=\"Consultar\", value='Preencha os campos acima para consultar')\n",
    "button3 = widgets.Button(description=\"Atualizar\", value= 'Preencha os campos acima para atualizar')\n",
    "button4 = widgets.Button(description=\"Deletar\", value= 'Preencha os campos acima para deletar')\n",
    "output = widgets.Output()\n"
   ]
  },
  {
   "cell_type": "markdown",
   "id": "54d67fbb",
   "metadata": {},
   "source": [
    "**Funções Crud**"
   ]
  },
  {
   "cell_type": "code",
   "execution_count": 12,
   "id": "22ad8a00",
   "metadata": {
    "scrolled": true
   },
   "outputs": [
    {
     "data": {
      "application/vnd.jupyter.widget-view+json": {
       "model_id": "8a762165a6c441b6bf318dbea03a1117",
       "version_major": 2,
       "version_minor": 0
      },
      "text/plain": [
       "Output()"
      ]
     },
     "execution_count": 12,
     "metadata": {},
     "output_type": "execute_result"
    }
   ],
   "source": [
    "def on_button_insert(b):\n",
    "    try:\n",
    "        cursor = con.cursor()\n",
    "        cursor.execute(\"INSERT INTO atividade_fisica (tempo, tipo, objetivo, atividadeid, cpfusuario) VALUES (%s, %s, %s, %s, %s)\", (tempo.value, tipo.value, objetivo.value, atividadeid.value, cpfusuario.value))\n",
    "        con.commit()\n",
    "        print(\"Dados inseridos com sucesso!\")\n",
    "    \n",
    "        df = pd.read_sql_query(\"SELECT * FROM atividade_fisica\", con)\n",
    "        \n",
    "        display(tempo, tipo, objetivo, atividadeid, cpfusuario, df)\n",
    "    \n",
    "    except (Exception, pg.Error) as error:\n",
    "        cursor.execute(\"ROLLBACK\")\n",
    "        output.clear_output()\n",
    "        display(tempo, tipo, objetivo, atividadeid, cpfusuario)\n",
    "        print(\"Falha ao inserir Atividade Física\", error)\n",
    "\n",
    "    finally:\n",
    "        cursor.close()\n",
    "        \n",
    "button.on_click(on_button_insert)\n",
    "with output:\n",
    "        display(tempo, tipo, objetivo, atividadeid, cpfusuario, button)\n",
    "output"
   ]
  },
  {
   "cell_type": "code",
   "execution_count": 13,
   "id": "cfdd1747",
   "metadata": {},
   "outputs": [
    {
     "data": {
      "application/vnd.jupyter.widget-view+json": {
       "model_id": "8a762165a6c441b6bf318dbea03a1117",
       "version_major": 2,
       "version_minor": 0
      },
      "text/plain": [
       "Output()"
      ]
     },
     "execution_count": 13,
     "metadata": {},
     "output_type": "execute_result"
    }
   ],
   "source": [
    "def on_button2_query(b):\n",
    "    try:\n",
    "        cursor = con.cursor()\n",
    "        cursor.execute(\"SELECT * FROM atividade_fisica WHERE tipo = %s\", (tipo.value,))\n",
    "        con.commit()\n",
    "        \n",
    "        df = pd.read_sql_query(\"SELECT * FROM atividade_fisica WHERE tipo = %s\", con, params=(tipo.value,))\n",
    "        \n",
    "        # Exibindo o DataFrame\n",
    "        output.clear_output()\n",
    "        display(tipo, df)\n",
    "\n",
    "    except (Exception, pg.Error) as error:\n",
    "        cursor.execute(\"ROLLBACK\")\n",
    "        output.clear_output()\n",
    "        display(tipo)\n",
    "        print(\"Falha ao consultar Atividade Física\", error)\n",
    "\n",
    "    finally:\n",
    "        cursor.close()\n",
    "\n",
    "# Associando a função ao evento de clique do botão\n",
    "button2.on_click(on_button2_query)\n",
    "\n",
    "# Exibindo os widgets e o botão\n",
    "with output:\n",
    "    display(tipo, button2)\n",
    "output\n"
   ]
  },
  {
   "cell_type": "code",
   "execution_count": 14,
   "id": "e9f6790d",
   "metadata": {},
   "outputs": [
    {
     "data": {
      "application/vnd.jupyter.widget-view+json": {
       "model_id": "8a762165a6c441b6bf318dbea03a1117",
       "version_major": 2,
       "version_minor": 0
      },
      "text/plain": [
       "Output()"
      ]
     },
     "execution_count": 14,
     "metadata": {},
     "output_type": "execute_result"
    }
   ],
   "source": [
    "def on_button3_update(b):\n",
    "    try:\n",
    "        cursor = con.cursor()\n",
    "        cursor.execute(\"UPDATE atividade_fisica SET tempo = %s, tipo = %s, objetivo = %s, cpfusuario = %s WHERE atividadeid = %s\", (tempo.value, tipo.value, objetivo.value, cpfusuario.value, atividadeid.value))\n",
    "        con.commit()\n",
    "        df = pd.read_sql_query(\"SELECT * FROM atividade_fisica\", con)\n",
    "        output.clear_output()\n",
    "        display(tempo, tipo, objetivo, atividadeid, cpfusuario, df)\n",
    "\n",
    "    except:\n",
    "        cursor.execute(\"ROLLBACK\")\n",
    "        output.clear_output()\n",
    "        display(tempo, tipo, objetivo, atividadeid, cpfusuario, df)\n",
    "        print(\"Não foi possível atualizar a Dados da Ativiade Física\")\n",
    "\n",
    "    finally:\n",
    "        cursor.close()\n",
    "\n",
    "button3.on_click(on_button3_update)\n",
    "with output:\n",
    "        display(tempo, tipo, objetivo, atividadeid, cpfusuario, button3)\n",
    "output"
   ]
  },
  {
   "cell_type": "code",
   "execution_count": 15,
   "id": "b459dc59",
   "metadata": {},
   "outputs": [
    {
     "data": {
      "application/vnd.jupyter.widget-view+json": {
       "model_id": "8a762165a6c441b6bf318dbea03a1117",
       "version_major": 2,
       "version_minor": 0
      },
      "text/plain": [
       "Output()"
      ]
     },
     "execution_count": 15,
     "metadata": {},
     "output_type": "execute_result"
    }
   ],
   "source": [
    "def on_button4_delete(b):\n",
    "    try:\n",
    "        cursor = con.cursor()\n",
    "        cursor.execute(\"DELETE FROM atividade_fisica WHERE atividadeid = %s\", (atividadeid.value,))\n",
    "        rows_deleted = cursor.rowcount\n",
    "        con.commit()\n",
    "        df = pd.read_sql_query(\"SELECT * FROM atividade_fisica\", con)\n",
    "        output.clear_output()\n",
    "        display(atividadeid, df)\n",
    "\n",
    "    except:\n",
    "        cursor.execute(\"ROLLBACK\")\n",
    "        output.clear_output()\n",
    "        display(atividadeid)\n",
    "        print(\"Não foi possível deletar Atividade Física\")\n",
    "\n",
    "    finally:\n",
    "        cursor.close()\n",
    "        \n",
    "button4.on_click(on_button4_delete)\n",
    "with output:\n",
    "        display(atividadeid, button4)\n",
    "output"
   ]
  },
  {
   "cell_type": "code",
   "execution_count": null,
   "id": "c7805b41",
   "metadata": {},
   "outputs": [],
   "source": []
  }
 ],
 "metadata": {
  "kernelspec": {
   "display_name": "Python 3 (ipykernel)",
   "language": "python",
   "name": "python3"
  },
  "language_info": {
   "codemirror_mode": {
    "name": "ipython",
    "version": 3
   },
   "file_extension": ".py",
   "mimetype": "text/x-python",
   "name": "python",
   "nbconvert_exporter": "python",
   "pygments_lexer": "ipython3",
   "version": "3.10.12"
  }
 },
 "nbformat": 4,
 "nbformat_minor": 5
}
