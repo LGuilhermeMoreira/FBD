{
 "cells": [
  {
   "cell_type": "markdown",
   "id": "211cb849-cfef-4f9a-993a-eed17edc217a",
   "metadata": {},
   "source": [
    "### Import das bibliotecas necessárias"
   ]
  },
  {
   "cell_type": "code",
   "execution_count": 57,
   "id": "5aa5735e-3fa9-4da6-9c0d-c009debea394",
   "metadata": {},
   "outputs": [],
   "source": [
    "import psycopg2 as pg\n",
    "import pandas as pd\n",
    "import ipywidgets as widgets\n",
    "from IPython.display import display"
   ]
  },
  {
   "cell_type": "markdown",
   "id": "68d402b9-a513-4b8e-97a7-f6ece8183141",
   "metadata": {},
   "source": [
    "### Configuração da conexão com o banco de dados PostgreSQL"
   ]
  },
  {
   "cell_type": "code",
   "execution_count": 58,
   "id": "95667438-fa8d-4bc4-b90c-2c09b1a4d923",
   "metadata": {},
   "outputs": [
    {
     "name": "stdout",
     "output_type": "stream",
     "text": [
      "conexao estabelecida\n"
     ]
    }
   ],
   "source": [
    "try:\n",
    "    #conn = pg.connect(database=\"projeto-fbd\", host=\"localhost\", port='5432', user='postgres', password='leader066')\n",
    "    conn = pg.connect(database=\"projeto-fbd\",host=\"localhost\",port=5432,user='postgres',password='198019')\n",
    "    print(\"conexao estabelecida\")\n",
    "except:\n",
    "    print(\"conexao nao estabelecida\")"
   ]
  },
  {
   "cell_type": "markdown",
   "id": "d7adb76a-f351-44a8-abe3-20baa8905420",
   "metadata": {},
   "source": [
    "### Criação dos widgets"
   ]
  },
  {
   "cell_type": "code",
   "execution_count": 59,
   "id": "52d897fb-96a3-4091-84b9-4167966ba0c3",
   "metadata": {},
   "outputs": [],
   "source": [
    "cpfUsuario = widgets.Text(value='', placeholder='Digite o CPF do usuário', description='CPF:', disabled=False)\n",
    "\n",
    "nome = widgets.Text(value='', placeholder='Digite o nome do usuário', description='Nome:', disabled=False)\n",
    "\n",
    "dia = widgets.IntText(value=1, description='Dia:', disabled=False)\n",
    "\n",
    "mes = widgets.IntText(value=1, description='Mês:', disabled=False)\n",
    "\n",
    "ano = widgets.IntText(value=2023, description='Ano:', disabled=False)\n",
    "\n",
    "idade = widgets.IntText(value=0, description='Idade:', disabled=False)\n",
    "\n",
    "numero = widgets.Text(value='', placeholder='Digite o número', description='Número:', disabled=False)\n",
    "\n",
    "endereco = widgets.Text(value='', placeholder='Digite o endereço', description='Endereço:', disabled=False)\n",
    "\n",
    "tipo_sanguineo = widgets.Dropdown(options=['A+', 'A-', 'B+', 'B-', 'AB+', 'AB-', 'O+', 'O-'], value='A+', description='Tipo Sanguíneo:', disabled=False,)\n",
    "\n",
    "historico_medico = widgets.Textarea(value='', placeholder='Digite o histórico médico', description='Histórico Médico:', disabled=False)\n",
    "\n",
    "peso = widgets.FloatText(value=0.0, description='Peso:', disabled=False)"
   ]
  },
  {
   "cell_type": "markdown",
   "id": "9dbd29b6-ab15-454d-856b-2cbe5d5d1d63",
   "metadata": {},
   "source": [
    "### Criação dos botões"
   ]
  },
  {
   "cell_type": "code",
   "execution_count": 60,
   "id": "a6ce3839-c176-45ef-af34-31d098fc3444",
   "metadata": {},
   "outputs": [],
   "source": [
    "# Criação dos botões\n",
    "createButton = widgets.Button(description=\"Cadastrar\")\n",
    "readButton = widgets.Button(description=\"Consultar\", value='Preencha os campos acima para consultar')\n",
    "updateButton = widgets.Button(description=\"Atualizar\", value= 'Preencha os campos acima para atualizar')\n",
    "deleteButton = widgets.Button(description=\"Deletar\", value= 'Preencha os campos acima para deletar')\n",
    "output = widgets.Output()"
   ]
  },
  {
   "cell_type": "markdown",
   "id": "f6832f2c-52e6-447a-a5b5-7ab2033d6339",
   "metadata": {},
   "source": [
    "### Declaração das funções para os botões"
   ]
  },
  {
   "cell_type": "code",
   "execution_count": 61,
   "id": "783f197d-5ad6-43bd-8f98-3dbbe9d48630",
   "metadata": {},
   "outputs": [
    {
     "data": {
      "application/vnd.jupyter.widget-view+json": {
       "model_id": "65525f148dfb42cf9f71b52479ee14a2",
       "version_major": 2,
       "version_minor": 0
      },
      "text/plain": [
       "Text(value='', description='CPF:', placeholder='Digite o CPF do usuário')"
      ]
     },
     "metadata": {},
     "output_type": "display_data"
    },
    {
     "data": {
      "application/vnd.jupyter.widget-view+json": {
       "model_id": "f2a72f23ca034be686fc92908f8048a2",
       "version_major": 2,
       "version_minor": 0
      },
      "text/plain": [
       "Text(value='', description='Nome:', placeholder='Digite o nome do usuário')"
      ]
     },
     "metadata": {},
     "output_type": "display_data"
    },
    {
     "data": {
      "application/vnd.jupyter.widget-view+json": {
       "model_id": "136f227c86494c7b8d7043dec6044de8",
       "version_major": 2,
       "version_minor": 0
      },
      "text/plain": [
       "IntText(value=1, description='Dia:')"
      ]
     },
     "metadata": {},
     "output_type": "display_data"
    },
    {
     "data": {
      "application/vnd.jupyter.widget-view+json": {
       "model_id": "2269ad9999aa410cbbf51e94d5845fc4",
       "version_major": 2,
       "version_minor": 0
      },
      "text/plain": [
       "IntText(value=1, description='Mês:')"
      ]
     },
     "metadata": {},
     "output_type": "display_data"
    },
    {
     "data": {
      "application/vnd.jupyter.widget-view+json": {
       "model_id": "0bf3e46662044d799b9c0a34e6ecd729",
       "version_major": 2,
       "version_minor": 0
      },
      "text/plain": [
       "IntText(value=2023, description='Ano:')"
      ]
     },
     "metadata": {},
     "output_type": "display_data"
    },
    {
     "data": {
      "application/vnd.jupyter.widget-view+json": {
       "model_id": "e5ee60ea171948cfbbfa9d9036f97b96",
       "version_major": 2,
       "version_minor": 0
      },
      "text/plain": [
       "IntText(value=0, description='Idade:')"
      ]
     },
     "metadata": {},
     "output_type": "display_data"
    },
    {
     "data": {
      "application/vnd.jupyter.widget-view+json": {
       "model_id": "7d62a453b18e44b891e8cbdd9c4aaf8d",
       "version_major": 2,
       "version_minor": 0
      },
      "text/plain": [
       "Text(value='', description='Número:', placeholder='Digite o número')"
      ]
     },
     "metadata": {},
     "output_type": "display_data"
    },
    {
     "data": {
      "application/vnd.jupyter.widget-view+json": {
       "model_id": "a05de19d650a4e66892c695b2b80501e",
       "version_major": 2,
       "version_minor": 0
      },
      "text/plain": [
       "Text(value='', description='Endereço:', placeholder='Digite o endereço')"
      ]
     },
     "metadata": {},
     "output_type": "display_data"
    },
    {
     "data": {
      "application/vnd.jupyter.widget-view+json": {
       "model_id": "ac78fca6536a4ee3ac0eee0bdc776b0a",
       "version_major": 2,
       "version_minor": 0
      },
      "text/plain": [
       "Dropdown(description='Tipo Sanguíneo:', options=('A+', 'A-', 'B+', 'B-', 'AB+', 'AB-', 'O+', 'O-'), value='A+'…"
      ]
     },
     "metadata": {},
     "output_type": "display_data"
    },
    {
     "data": {
      "application/vnd.jupyter.widget-view+json": {
       "model_id": "a9c339e1e1494d51a2a0cc00762aacb6",
       "version_major": 2,
       "version_minor": 0
      },
      "text/plain": [
       "Textarea(value='', description='Histórico Médico:', placeholder='Digite o histórico médico')"
      ]
     },
     "metadata": {},
     "output_type": "display_data"
    },
    {
     "data": {
      "application/vnd.jupyter.widget-view+json": {
       "model_id": "8541563672034066a540321668ab0e9f",
       "version_major": 2,
       "version_minor": 0
      },
      "text/plain": [
       "FloatText(value=0.0, description='Peso:')"
      ]
     },
     "metadata": {},
     "output_type": "display_data"
    },
    {
     "data": {
      "application/vnd.jupyter.widget-view+json": {
       "model_id": "bc5a0944982547a9a21107c7b99fdbde",
       "version_major": 2,
       "version_minor": 0
      },
      "text/plain": [
       "Button(description='Cadastrar', style=ButtonStyle())"
      ]
     },
     "metadata": {},
     "output_type": "display_data"
    },
    {
     "data": {
      "application/vnd.jupyter.widget-view+json": {
       "model_id": "de9b9c2ddb3942f1a851a23a4c8c6b8f",
       "version_major": 2,
       "version_minor": 0
      },
      "text/plain": [
       "Output()"
      ]
     },
     "metadata": {},
     "output_type": "display_data"
    }
   ],
   "source": [
    "# CREATE\n",
    "def onCreateButton(b):\n",
    "\n",
    "    with output:\n",
    "        try:\n",
    "            cursor = conn.cursor()\n",
    "            cursor.execute(\"INSERT INTO Usuario (cpfUsuario, nome, dia, mes, ano, idade, numero, endereco, tipo_sanguineo, historico_medico, peso) VALUES (%s, %s, %s, %s, %s, %s, %s, %s, %s, %s, %s)\", (cpfUsuario.value, nome.value, dia.value, mes.value, ano.value, idade.value, numero.value, endereco.value, tipo_sanguineo.value, historico_medico.value, peso.value))\n",
    "            conn.commit()\n",
    "            print(\"Dados inseridos com sucesso!\")\n",
    "            df = pd.read_sql_query(\"SELECT * FROM usuario\", conn)\n",
    "            display(df)\n",
    "\n",
    "        except (Exception, pg.Error) as error:\n",
    "            cursor.execute(\"ROLLBACK\")\n",
    "            output.clear_output()\n",
    "            print(\"Falha ao inserir dados\", error)\n",
    "\n",
    "        finally:\n",
    "            cursor.close()\n",
    "\n",
    "createButton.on_click(onCreateButton)\n",
    "display(cpfUsuario, nome, dia, mes, ano, idade, numero, endereco, tipo_sanguineo, historico_medico, peso, createButton, output)"
   ]
  },
  {
   "cell_type": "code",
   "execution_count": 65,
   "id": "cd751863-fef3-468b-aad1-36a9a11ac3e8",
   "metadata": {},
   "outputs": [
    {
     "data": {
      "application/vnd.jupyter.widget-view+json": {
       "model_id": "65525f148dfb42cf9f71b52479ee14a2",
       "version_major": 2,
       "version_minor": 0
      },
      "text/plain": [
       "Text(value='08226810302', description='CPF:', placeholder='Digite o CPF do usuário')"
      ]
     },
     "metadata": {},
     "output_type": "display_data"
    },
    {
     "data": {
      "application/vnd.jupyter.widget-view+json": {
       "model_id": "5cf0394aa0384cccb8f872a215b172c8",
       "version_major": 2,
       "version_minor": 0
      },
      "text/plain": [
       "Button(description='Consultar', style=ButtonStyle())"
      ]
     },
     "metadata": {},
     "output_type": "display_data"
    },
    {
     "data": {
      "application/vnd.jupyter.widget-view+json": {
       "model_id": "de9b9c2ddb3942f1a851a23a4c8c6b8f",
       "version_major": 2,
       "version_minor": 0
      },
      "text/plain": [
       "Output(outputs=({'output_type': 'display_data', 'data': {'text/plain': '     nome  dia  mes   ano  idade   cpf…"
      ]
     },
     "metadata": {},
     "output_type": "display_data"
    }
   ],
   "source": [
    "# READ\n",
    "def onReadButton(b):\n",
    "\n",
    "    with output:\n",
    "        try:\n",
    "            cursor = conn.cursor()\n",
    "            #cursor.execute(\"SELECT * FROM Usuario WHERE cpfUsuario = %s\", (cpfUsuario.value))\n",
    "            #conn.commit()\n",
    "            df = pd.read_sql_query(\"SELECT * FROM Usuario WHERE cpfUsuario = %s\", conn, params=(cpfUsuario.value,))\n",
    "            output.clear_output(wait=True)\n",
    "            display(df)\n",
    "    \n",
    "        except (Exception, pg.Error) as error:\n",
    "            conn.rollback()\n",
    "            output.clear_output()\n",
    "            print(\"Falha ao ler dados\", error)\n",
    "    \n",
    "        finally:\n",
    "            cursor.close()\n",
    "\n",
    "readButton.on_click(onReadButton)\n",
    "display(cpfUsuario, readButton, output)"
   ]
  },
  {
   "cell_type": "code",
   "execution_count": 63,
   "id": "26469ba6-d18e-4bbf-a885-601fd955f0ad",
   "metadata": {},
   "outputs": [
    {
     "data": {
      "application/vnd.jupyter.widget-view+json": {
       "model_id": "65525f148dfb42cf9f71b52479ee14a2",
       "version_major": 2,
       "version_minor": 0
      },
      "text/plain": [
       "Text(value='', description='CPF:', placeholder='Digite o CPF do usuário')"
      ]
     },
     "metadata": {},
     "output_type": "display_data"
    },
    {
     "data": {
      "application/vnd.jupyter.widget-view+json": {
       "model_id": "f2a72f23ca034be686fc92908f8048a2",
       "version_major": 2,
       "version_minor": 0
      },
      "text/plain": [
       "Text(value='', description='Nome:', placeholder='Digite o nome do usuário')"
      ]
     },
     "metadata": {},
     "output_type": "display_data"
    },
    {
     "data": {
      "application/vnd.jupyter.widget-view+json": {
       "model_id": "136f227c86494c7b8d7043dec6044de8",
       "version_major": 2,
       "version_minor": 0
      },
      "text/plain": [
       "IntText(value=1, description='Dia:')"
      ]
     },
     "metadata": {},
     "output_type": "display_data"
    },
    {
     "data": {
      "application/vnd.jupyter.widget-view+json": {
       "model_id": "2269ad9999aa410cbbf51e94d5845fc4",
       "version_major": 2,
       "version_minor": 0
      },
      "text/plain": [
       "IntText(value=1, description='Mês:')"
      ]
     },
     "metadata": {},
     "output_type": "display_data"
    },
    {
     "data": {
      "application/vnd.jupyter.widget-view+json": {
       "model_id": "0bf3e46662044d799b9c0a34e6ecd729",
       "version_major": 2,
       "version_minor": 0
      },
      "text/plain": [
       "IntText(value=2023, description='Ano:')"
      ]
     },
     "metadata": {},
     "output_type": "display_data"
    },
    {
     "data": {
      "application/vnd.jupyter.widget-view+json": {
       "model_id": "e5ee60ea171948cfbbfa9d9036f97b96",
       "version_major": 2,
       "version_minor": 0
      },
      "text/plain": [
       "IntText(value=0, description='Idade:')"
      ]
     },
     "metadata": {},
     "output_type": "display_data"
    },
    {
     "data": {
      "application/vnd.jupyter.widget-view+json": {
       "model_id": "7d62a453b18e44b891e8cbdd9c4aaf8d",
       "version_major": 2,
       "version_minor": 0
      },
      "text/plain": [
       "Text(value='', description='Número:', placeholder='Digite o número')"
      ]
     },
     "metadata": {},
     "output_type": "display_data"
    },
    {
     "data": {
      "application/vnd.jupyter.widget-view+json": {
       "model_id": "a05de19d650a4e66892c695b2b80501e",
       "version_major": 2,
       "version_minor": 0
      },
      "text/plain": [
       "Text(value='', description='Endereço:', placeholder='Digite o endereço')"
      ]
     },
     "metadata": {},
     "output_type": "display_data"
    },
    {
     "data": {
      "application/vnd.jupyter.widget-view+json": {
       "model_id": "ac78fca6536a4ee3ac0eee0bdc776b0a",
       "version_major": 2,
       "version_minor": 0
      },
      "text/plain": [
       "Dropdown(description='Tipo Sanguíneo:', options=('A+', 'A-', 'B+', 'B-', 'AB+', 'AB-', 'O+', 'O-'), value='A+'…"
      ]
     },
     "metadata": {},
     "output_type": "display_data"
    },
    {
     "data": {
      "application/vnd.jupyter.widget-view+json": {
       "model_id": "a9c339e1e1494d51a2a0cc00762aacb6",
       "version_major": 2,
       "version_minor": 0
      },
      "text/plain": [
       "Textarea(value='', description='Histórico Médico:', placeholder='Digite o histórico médico')"
      ]
     },
     "metadata": {},
     "output_type": "display_data"
    },
    {
     "data": {
      "application/vnd.jupyter.widget-view+json": {
       "model_id": "8541563672034066a540321668ab0e9f",
       "version_major": 2,
       "version_minor": 0
      },
      "text/plain": [
       "FloatText(value=0.0, description='Peso:')"
      ]
     },
     "metadata": {},
     "output_type": "display_data"
    },
    {
     "data": {
      "application/vnd.jupyter.widget-view+json": {
       "model_id": "e25821460f7b475cb43a745dc58f893d",
       "version_major": 2,
       "version_minor": 0
      },
      "text/plain": [
       "Button(description='Atualizar', style=ButtonStyle())"
      ]
     },
     "metadata": {},
     "output_type": "display_data"
    },
    {
     "data": {
      "application/vnd.jupyter.widget-view+json": {
       "model_id": "de9b9c2ddb3942f1a851a23a4c8c6b8f",
       "version_major": 2,
       "version_minor": 0
      },
      "text/plain": [
       "Output()"
      ]
     },
     "metadata": {},
     "output_type": "display_data"
    }
   ],
   "source": [
    "# UPDATE\n",
    "def onUpdateButton(b):\n",
    "\n",
    "    with output:\n",
    "        try:\n",
    "            cursor = conn.cursor()\n",
    "            cursor.execute(\"UPDATE Usuario SET nome = %s, dia = %s, mes = %s, ano = %s, idade = %s, numero = %s, endereco = %s, tipo_sanguineo = %s, historico_medico = %s, peso = %s WHERE cpfUsuario = %s\", (nome.value, dia.value, mes.value, ano.value, idade.value, numero.value, endereco.value, tipo_sanguineo.value, historico_medico.value, peso.value, cpfUsuario.value))\n",
    "            conn.commit()\n",
    "            print(\"Dados atualizados com sucesso!\")\n",
    "            df = pd.read_sql_query(\"SELECT * FROM Usuario WHERE cpfUsuario = %s\", conn, params=(cpfUsuario.value,))\n",
    "            output.clear_output(wait=True)\n",
    "            display(df)\n",
    "            \n",
    "        except (Exception, pg.Error) as error:\n",
    "            cursor.execute(\"ROLLBACK\")\n",
    "            output.clear_output()\n",
    "            print(\"Falha ao atualizar Usuario\", error)\n",
    "            \n",
    "        finally:\n",
    "            cursor.close()\n",
    "\n",
    "updateButton.on_click(onUpdateButton)\n",
    "display(cpfUsuario, nome, dia, mes, ano, idade, numero, endereco, tipo_sanguineo, historico_medico, peso, updateButton, output)"
   ]
  },
  {
   "cell_type": "code",
   "execution_count": 64,
   "id": "237ea996-2de7-419b-86dc-6c0616673f0f",
   "metadata": {},
   "outputs": [
    {
     "data": {
      "application/vnd.jupyter.widget-view+json": {
       "model_id": "65525f148dfb42cf9f71b52479ee14a2",
       "version_major": 2,
       "version_minor": 0
      },
      "text/plain": [
       "Text(value='', description='CPF:', placeholder='Digite o CPF do usuário')"
      ]
     },
     "metadata": {},
     "output_type": "display_data"
    },
    {
     "data": {
      "application/vnd.jupyter.widget-view+json": {
       "model_id": "a0a470a127f648589f10a391339f582a",
       "version_major": 2,
       "version_minor": 0
      },
      "text/plain": [
       "Button(description='Deletar', style=ButtonStyle())"
      ]
     },
     "metadata": {},
     "output_type": "display_data"
    },
    {
     "data": {
      "application/vnd.jupyter.widget-view+json": {
       "model_id": "de9b9c2ddb3942f1a851a23a4c8c6b8f",
       "version_major": 2,
       "version_minor": 0
      },
      "text/plain": [
       "Output()"
      ]
     },
     "metadata": {},
     "output_type": "display_data"
    }
   ],
   "source": [
    "# DELETE\n",
    "def onDeleteButton(b):\n",
    "\n",
    "    with output:\n",
    "        try:\n",
    "            cursor = conn.cursor()\n",
    "            cursor.execute(\"DELETE FROM Usuario WHERE cpfUsuario = %s\", (cpfUsuario.value,))\n",
    "            conn.commit()\n",
    "            df = pd.read_sql_query(\"SELECT * FROM Usuario WHERE cpfUsuario = %s\", conn, params=(cpfUsuario.value,))\n",
    "            \n",
    "        except (Exception, pg.Error) as error:\n",
    "            cursor.execute(\"ROLLBACK\")\n",
    "            output.clear_output()\n",
    "            print(\"Falha deletar Usuario\", error)\n",
    "            \n",
    "        finally:\n",
    "            cursor.close()\n",
    "\n",
    "deleteButton.on_click(onDeleteButton)\n",
    "display(cpfUsuario, deleteButton, output)"
   ]
  },
  {
   "cell_type": "code",
   "execution_count": null,
   "id": "08e7991c-9ec4-4a4e-87c3-194c108beeb7",
   "metadata": {},
   "outputs": [],
   "source": []
  }
 ],
 "metadata": {
  "kernelspec": {
   "display_name": "Python 3 (ipykernel)",
   "language": "python",
   "name": "python3"
  },
  "language_info": {
   "codemirror_mode": {
    "name": "ipython",
    "version": 3
   },
   "file_extension": ".py",
   "mimetype": "text/x-python",
   "name": "python",
   "nbconvert_exporter": "python",
   "pygments_lexer": "ipython3",
   "version": "3.10.12"
  }
 },
 "nbformat": 4,
 "nbformat_minor": 5
}
