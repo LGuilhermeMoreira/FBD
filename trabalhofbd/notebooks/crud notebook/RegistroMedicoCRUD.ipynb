{
 "cells": [
  {
   "cell_type": "markdown",
   "id": "be12d828-743a-42a6-93d3-34f807de1b40",
   "metadata": {},
   "source": [
    "### Import das bibliotecas necessárias"
   ]
  },
  {
   "cell_type": "code",
   "execution_count": 1,
   "id": "752e9b6d-ff07-44c6-acbd-7db60b204491",
   "metadata": {},
   "outputs": [],
   "source": [
    "import psycopg2 as pg\n",
    "import pandas as pd\n",
    "import ipywidgets as widgets\n",
    "from IPython.display import display"
   ]
  },
  {
   "cell_type": "markdown",
   "id": "58dab4e3-f301-4f2a-8d5d-95b4c7b8b573",
   "metadata": {},
   "source": [
    "### Configuração da conexão com o banco de dados PostgreSQL"
   ]
  },
  {
   "cell_type": "code",
   "execution_count": 2,
   "id": "3ef333a0-2a3a-4f46-823b-ae3d3a4c33b3",
   "metadata": {},
   "outputs": [
    {
     "name": "stdout",
     "output_type": "stream",
     "text": [
      "conexao estabelecida\n"
     ]
    }
   ],
   "source": [
    "try:\n",
    "    #conn = pg.connect(database=\"projeto-fbd\", host=\"localhost\", port='5432', user='postgres', password='leader066')\n",
    "    conn = pg.connect(database=\"projeto-fbd\",host=\"localhost\",port=5432,user='postgres',password='198019')\n",
    "    print(\"conexao estabelecida\")\n",
    "except:\n",
    "    print(\"conexao nao estabelecida\")"
   ]
  },
  {
   "cell_type": "markdown",
   "id": "3d7af5fe-10b3-492d-a7e2-a1385be93ac3",
   "metadata": {},
   "source": [
    "### Criação dos widgets"
   ]
  },
  {
   "cell_type": "code",
   "execution_count": 3,
   "id": "f8a88f92-c0b2-4db6-a877-dbf329028db1",
   "metadata": {},
   "outputs": [],
   "source": [
    "registroId = widgets.IntText(value=0, description='Id:', disabled=False)\n",
    "\n",
    "cpfUsuario = widgets.Text(value='', placeholder='Digite o CPF do usuário', description='CPF:', disabled=False)\n",
    "\n",
    "atividadeId = widgets.IntText(value=0, description='Atividade:', disabled=False)\n",
    "\n",
    "medicacaoId = widgets.IntText(value=0, description='Medicação:', disabled=False)\n",
    "\n",
    "dietaId = widgets.IntText(value=0, description='Dieta:', disabled=False)"
   ]
  },
  {
   "cell_type": "markdown",
   "id": "0b0d2ca3-65ee-424e-9ee4-df25d59ac1cf",
   "metadata": {},
   "source": [
    "### Criação dos botões"
   ]
  },
  {
   "cell_type": "code",
   "execution_count": 4,
   "id": "77b76479-44cb-44b2-92c6-5b8eff6dc9d2",
   "metadata": {},
   "outputs": [],
   "source": [
    "# Criação dos botões\n",
    "createButton = widgets.Button(description=\"Cadastrar\")\n",
    "readButton = widgets.Button(description=\"Consultar\", value='Preencha os campos acima para consultar')\n",
    "updateButton = widgets.Button(description=\"Atualizar\", value= 'Preencha os campos acima para atualizar')\n",
    "deleteButton = widgets.Button(description=\"Deletar\", value= 'Preencha os campos acima para deletar')\n",
    "output = widgets.Output()"
   ]
  },
  {
   "cell_type": "markdown",
   "id": "661bcf8a-1859-44b1-8b53-b6c15ede6722",
   "metadata": {},
   "source": [
    "### Declaração das funções para os botões"
   ]
  },
  {
   "cell_type": "code",
   "execution_count": 5,
   "id": "47ea0f3d-e211-4ee1-86d6-e87ef19cd41b",
   "metadata": {},
   "outputs": [
    {
     "data": {
      "application/vnd.jupyter.widget-view+json": {
       "model_id": "18ef1f78020f4759a7ccc69124943aff",
       "version_major": 2,
       "version_minor": 0
      },
      "text/plain": [
       "IntText(value=0, description='Id:')"
      ]
     },
     "metadata": {},
     "output_type": "display_data"
    },
    {
     "data": {
      "application/vnd.jupyter.widget-view+json": {
       "model_id": "8a1ac561efc84150b518bbe54ade351b",
       "version_major": 2,
       "version_minor": 0
      },
      "text/plain": [
       "Text(value='', description='CPF:', placeholder='Digite o CPF do usuário')"
      ]
     },
     "metadata": {},
     "output_type": "display_data"
    },
    {
     "data": {
      "application/vnd.jupyter.widget-view+json": {
       "model_id": "1a02831d303344a0932998ba8a0cb32e",
       "version_major": 2,
       "version_minor": 0
      },
      "text/plain": [
       "IntText(value=0, description='Atividade:')"
      ]
     },
     "metadata": {},
     "output_type": "display_data"
    },
    {
     "data": {
      "application/vnd.jupyter.widget-view+json": {
       "model_id": "80055c2b651b49049dc34d3e7d7b7400",
       "version_major": 2,
       "version_minor": 0
      },
      "text/plain": [
       "IntText(value=0, description='Medicação:')"
      ]
     },
     "metadata": {},
     "output_type": "display_data"
    },
    {
     "data": {
      "application/vnd.jupyter.widget-view+json": {
       "model_id": "450772c68afb448e86e27b3f039d26af",
       "version_major": 2,
       "version_minor": 0
      },
      "text/plain": [
       "IntText(value=0, description='Dieta:')"
      ]
     },
     "metadata": {},
     "output_type": "display_data"
    },
    {
     "data": {
      "application/vnd.jupyter.widget-view+json": {
       "model_id": "211c4ac21f1645b2965b98258550c9c4",
       "version_major": 2,
       "version_minor": 0
      },
      "text/plain": [
       "Button(description='Cadastrar', style=ButtonStyle())"
      ]
     },
     "metadata": {},
     "output_type": "display_data"
    },
    {
     "data": {
      "application/vnd.jupyter.widget-view+json": {
       "model_id": "192059d6049147d99abce12d3020c220",
       "version_major": 2,
       "version_minor": 0
      },
      "text/plain": [
       "Output()"
      ]
     },
     "metadata": {},
     "output_type": "display_data"
    }
   ],
   "source": [
    "# CREATE\n",
    "def onCreateButton(b):\n",
    "\n",
    "    with output:\n",
    "        try:\n",
    "            cursor = conn.cursor()\n",
    "            cursor.execute(\"INSERT INTO registro_medico (registroId, cpfUsuario, atividadeId, medicacaoId, dietaId) VALUES (%s, %s, %s, %s, %s)\", (registroId.value, cpfUsuario.value, atividadeId.value, medicacaoId.value, dietaId.value))\n",
    "            conn.commit()\n",
    "            df = pd.read_sql_query(\"SELECT * FROM registro_medico\", conn)\n",
    "            output.clear_output(wait=True)\n",
    "            print(\"Dados inseridos com sucesso!\")\n",
    "            display(df)\n",
    "\n",
    "        except (Exception, pg.Error) as error:\n",
    "            cursor.execute(\"ROLLBACK\")\n",
    "            output.clear_output()\n",
    "            print(\"Falha ao inserir dados\", error)\n",
    "\n",
    "        finally:\n",
    "            cursor.close()\n",
    "\n",
    "createButton.on_click(onCreateButton)\n",
    "display(registroId, cpfUsuario, atividadeId, medicacaoId, dietaId, createButton, output)"
   ]
  },
  {
   "cell_type": "code",
   "execution_count": 6,
   "id": "adf0a2d5-6020-49a3-b8d3-ca7e36af6a63",
   "metadata": {},
   "outputs": [
    {
     "data": {
      "application/vnd.jupyter.widget-view+json": {
       "model_id": "18ef1f78020f4759a7ccc69124943aff",
       "version_major": 2,
       "version_minor": 0
      },
      "text/plain": [
       "IntText(value=0, description='Id:')"
      ]
     },
     "metadata": {},
     "output_type": "display_data"
    },
    {
     "data": {
      "application/vnd.jupyter.widget-view+json": {
       "model_id": "8b4ed73d6f1b4cb4a51657a2abbd1301",
       "version_major": 2,
       "version_minor": 0
      },
      "text/plain": [
       "Button(description='Consultar', style=ButtonStyle())"
      ]
     },
     "metadata": {},
     "output_type": "display_data"
    },
    {
     "data": {
      "application/vnd.jupyter.widget-view+json": {
       "model_id": "192059d6049147d99abce12d3020c220",
       "version_major": 2,
       "version_minor": 0
      },
      "text/plain": [
       "Output()"
      ]
     },
     "metadata": {},
     "output_type": "display_data"
    }
   ],
   "source": [
    "# READ\n",
    "def onReadButton(b):\n",
    "\n",
    "    with output:\n",
    "        try:\n",
    "            cursor = conn.cursor()\n",
    "            df = pd.read_sql_query(\"SELECT * FROM registro_medico WHERE registroId = %s\", conn, params=(registroId.value,))\n",
    "            output.clear_output(wait=True)\n",
    "            display(df)\n",
    "    \n",
    "        except (Exception, pg.Error) as error:\n",
    "            conn.rollback()\n",
    "            output.clear_output()\n",
    "            print(\"Falha ao ler dados\", error)\n",
    "    \n",
    "        finally:\n",
    "            cursor.close()\n",
    "\n",
    "readButton.on_click(onReadButton)\n",
    "display(registroId, readButton, output)"
   ]
  },
  {
   "cell_type": "code",
   "execution_count": 7,
   "id": "d5928132-3199-4e70-8c37-72a8f4e2c1c0",
   "metadata": {},
   "outputs": [
    {
     "data": {
      "application/vnd.jupyter.widget-view+json": {
       "model_id": "18ef1f78020f4759a7ccc69124943aff",
       "version_major": 2,
       "version_minor": 0
      },
      "text/plain": [
       "IntText(value=0, description='Id:')"
      ]
     },
     "metadata": {},
     "output_type": "display_data"
    },
    {
     "data": {
      "application/vnd.jupyter.widget-view+json": {
       "model_id": "8a1ac561efc84150b518bbe54ade351b",
       "version_major": 2,
       "version_minor": 0
      },
      "text/plain": [
       "Text(value='', description='CPF:', placeholder='Digite o CPF do usuário')"
      ]
     },
     "metadata": {},
     "output_type": "display_data"
    },
    {
     "data": {
      "application/vnd.jupyter.widget-view+json": {
       "model_id": "1a02831d303344a0932998ba8a0cb32e",
       "version_major": 2,
       "version_minor": 0
      },
      "text/plain": [
       "IntText(value=0, description='Atividade:')"
      ]
     },
     "metadata": {},
     "output_type": "display_data"
    },
    {
     "data": {
      "application/vnd.jupyter.widget-view+json": {
       "model_id": "80055c2b651b49049dc34d3e7d7b7400",
       "version_major": 2,
       "version_minor": 0
      },
      "text/plain": [
       "IntText(value=0, description='Medicação:')"
      ]
     },
     "metadata": {},
     "output_type": "display_data"
    },
    {
     "data": {
      "application/vnd.jupyter.widget-view+json": {
       "model_id": "450772c68afb448e86e27b3f039d26af",
       "version_major": 2,
       "version_minor": 0
      },
      "text/plain": [
       "IntText(value=0, description='Dieta:')"
      ]
     },
     "metadata": {},
     "output_type": "display_data"
    },
    {
     "data": {
      "application/vnd.jupyter.widget-view+json": {
       "model_id": "cafc2ccf8c114c7abc0043bcff8224d2",
       "version_major": 2,
       "version_minor": 0
      },
      "text/plain": [
       "Button(description='Atualizar', style=ButtonStyle())"
      ]
     },
     "metadata": {},
     "output_type": "display_data"
    },
    {
     "data": {
      "application/vnd.jupyter.widget-view+json": {
       "model_id": "192059d6049147d99abce12d3020c220",
       "version_major": 2,
       "version_minor": 0
      },
      "text/plain": [
       "Output()"
      ]
     },
     "metadata": {},
     "output_type": "display_data"
    }
   ],
   "source": [
    "# UPDATE\n",
    "def onUpdateButton(b):\n",
    "\n",
    "    with output:\n",
    "        try:\n",
    "            cursor = conn.cursor()\n",
    "            cursor.execute(\"UPDATE registro_medico SET cpfUsuario = %s, atividadeId = %s, medicacaoId = %s, dietaId = %s WHERE registroId = %s\", (cpfUsuario.value, atividadeId.value, medicacaoId.value, dietaId.value, registroId.value))\n",
    "            conn.commit()\n",
    "            df = pd.read_sql_query(\"SELECT * FROM registro_medico WHERE registroId = %s\", conn, params=(registroId.value,))\n",
    "            output.clear_output(wait=True)\n",
    "            print(\"Dados atualizados com sucesso!\")\n",
    "            display(df)\n",
    "            \n",
    "        except (Exception, pg.Error) as error:\n",
    "            cursor.execute(\"ROLLBACK\")\n",
    "            output.clear_output()\n",
    "            print(\"Falha ao atualizar registro\", error)\n",
    "            \n",
    "        finally:\n",
    "            cursor.close()\n",
    "\n",
    "updateButton.on_click(onUpdateButton)\n",
    "display(registroId, cpfUsuario, atividadeId, medicacaoId, dietaId, updateButton, output)"
   ]
  },
  {
   "cell_type": "code",
   "execution_count": 8,
   "id": "c8091236-4e01-4e82-9add-0411c1e17d60",
   "metadata": {},
   "outputs": [
    {
     "data": {
      "application/vnd.jupyter.widget-view+json": {
       "model_id": "8a1ac561efc84150b518bbe54ade351b",
       "version_major": 2,
       "version_minor": 0
      },
      "text/plain": [
       "Text(value='', description='CPF:', placeholder='Digite o CPF do usuário')"
      ]
     },
     "metadata": {},
     "output_type": "display_data"
    },
    {
     "data": {
      "application/vnd.jupyter.widget-view+json": {
       "model_id": "ae55e6e825dc4259b3085ae8641dcc8a",
       "version_major": 2,
       "version_minor": 0
      },
      "text/plain": [
       "Button(description='Deletar', style=ButtonStyle())"
      ]
     },
     "metadata": {},
     "output_type": "display_data"
    },
    {
     "data": {
      "application/vnd.jupyter.widget-view+json": {
       "model_id": "192059d6049147d99abce12d3020c220",
       "version_major": 2,
       "version_minor": 0
      },
      "text/plain": [
       "Output()"
      ]
     },
     "metadata": {},
     "output_type": "display_data"
    }
   ],
   "source": [
    "# DELETE\n",
    "def onDeleteButton(b):\n",
    "\n",
    "    with output:\n",
    "        try:\n",
    "            cursor = conn.cursor()\n",
    "            cursor.execute(\"DELETE FROM registro_medico WHERE registroId = %s\", (registroId.value,))\n",
    "            conn.commit()\n",
    "            df = pd.read_sql_query(\"SELECT * FROM registro_medico WHERE registroId = %s\", conn, params=(registroId.value,))\n",
    "            \n",
    "        except (Exception, pg.Error) as error:\n",
    "            cursor.execute(\"ROLLBACK\")\n",
    "            output.clear_output()\n",
    "            print(\"Falha deletar registro\", error)\n",
    "            \n",
    "        finally:\n",
    "            cursor.close()\n",
    "\n",
    "deleteButton.on_click(onDeleteButton)\n",
    "display(cpfUsuario, deleteButton, output)"
   ]
  }
 ],
 "metadata": {
  "kernelspec": {
   "display_name": "Python 3 (ipykernel)",
   "language": "python",
   "name": "python3"
  },
  "language_info": {
   "codemirror_mode": {
    "name": "ipython",
    "version": 3
   },
   "file_extension": ".py",
   "mimetype": "text/x-python",
   "name": "python",
   "nbconvert_exporter": "python",
   "pygments_lexer": "ipython3",
   "version": "3.10.12"
  }
 },
 "nbformat": 4,
 "nbformat_minor": 5
}
