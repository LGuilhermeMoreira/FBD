{
 "cells": [
  {
   "cell_type": "markdown",
   "id": "72f7dae1",
   "metadata": {},
   "source": [
    "**Bibliotecas Necessárias**"
   ]
  },
  {
   "cell_type": "code",
   "execution_count": 5,
   "id": "fe358e32",
   "metadata": {},
   "outputs": [],
   "source": [
    "import psycopg2 as pg\n",
    "import pandas as pd\n",
    "import ipywidgets as widgets\n",
    "from IPython.display import display"
   ]
  },
  {
   "cell_type": "markdown",
   "id": "2e01cc98",
   "metadata": {},
   "source": [
    "**Conexão com o Banco de Dados PostgreSQL**"
   ]
  },
  {
   "cell_type": "code",
   "execution_count": 6,
   "id": "38ce4a37",
   "metadata": {},
   "outputs": [],
   "source": [
    "#con = pg.connect(host='localhost', dbname= 'projeto-fbd', user='postgres', password= 'lxor8uqt')\n",
    "con = pg.connect(database=\"projeto-fbd\",host=\"localhost\",port=5432,user='postgres',password='198019')"
   ]
  },
  {
   "cell_type": "markdown",
   "id": "716a1bcc",
   "metadata": {},
   "source": [
    "**Widgets**"
   ]
  },
  {
   "cell_type": "code",
   "execution_count": 7,
   "id": "974f79ac",
   "metadata": {},
   "outputs": [],
   "source": [
    "nome = widgets.Text(\n",
    "    value='', \n",
    "    placeholder = 'Digite o nome da medicação',\n",
    "    description = 'Nome:',\n",
    "    disabled = False\n",
    ")\n",
    "\n",
    "dosagem = widgets.Text(\n",
    "    value = '',\n",
    "    placeholder = 'Digite a dosagem da medicação',\n",
    "    description = 'Dosagem:',\n",
    "    disabled = False\n",
    ")\n",
    "\n",
    "tipo = widgets.Text (\n",
    "    value = '',\n",
    "    placeholder = 'Digite qual o tipo da medicação', \n",
    "    description = 'Tipo: ', \n",
    "    disabled = False\n",
    ")\n",
    "\n",
    "intervalo = widgets.Text (\n",
    "    value = '', \n",
    "    placeholder = 'Digite o intervalo da medicação',\n",
    "    description = 'Intervalo: ',\n",
    "    disabled = False\n",
    ")\n",
    "\n",
    "medicacaoid = widgets.Text(\n",
    "    value = '',\n",
    "    placeholder = 'Digite o ID da medicação',\n",
    "    description = 'ID da Medicação:',\n",
    "    disabled = False\n",
    ")\n",
    "\n",
    "cpfusuario = widgets.Text(\n",
    "    value = '',\n",
    "    placeholder = 'Digite o CPF do usuário',\n",
    "    description = 'CPF do Usuário:',\n",
    "    disabled = False\n",
    ")"
   ]
  },
  {
   "cell_type": "markdown",
   "id": "265bef6f",
   "metadata": {},
   "source": [
    "**Criação dos Botões**"
   ]
  },
  {
   "cell_type": "code",
   "execution_count": 13,
   "id": "7cf865b9",
   "metadata": {},
   "outputs": [
    {
     "name": "stderr",
     "output_type": "stream",
     "text": [
      "/tmp/ipykernel_31177/2968614426.py:7: UserWarning: pandas only supports SQLAlchemy connectable (engine/connection) or database string URI or sqlite3 DBAPI2 connection. Other DBAPI2 objects are not tested. Please consider using SQLAlchemy.\n",
      "  df = pd.read_sql_query(\"SELECT * FROM medicacao WHERE nome = %s\", con, params=(nome.value,))\n"
     ]
    },
    {
     "data": {
      "application/vnd.jupyter.widget-view+json": {
       "model_id": "57d24134f48a4a1e83cc56e0b26261a7",
       "version_major": 2,
       "version_minor": 0
      },
      "text/plain": [
       "Text(value='cura gay', description='Nome:', placeholder='Digite o nome da medicação')"
      ]
     },
     "metadata": {},
     "output_type": "display_data"
    },
    {
     "data": {
      "text/html": [
       "<div>\n",
       "<style scoped>\n",
       "    .dataframe tbody tr th:only-of-type {\n",
       "        vertical-align: middle;\n",
       "    }\n",
       "\n",
       "    .dataframe tbody tr th {\n",
       "        vertical-align: top;\n",
       "    }\n",
       "\n",
       "    .dataframe thead th {\n",
       "        text-align: right;\n",
       "    }\n",
       "</style>\n",
       "<table border=\"1\" class=\"dataframe\">\n",
       "  <thead>\n",
       "    <tr style=\"text-align: right;\">\n",
       "      <th></th>\n",
       "      <th>nome</th>\n",
       "      <th>dosagem</th>\n",
       "      <th>tipo</th>\n",
       "      <th>intervalo_</th>\n",
       "      <th>medicacaoid</th>\n",
       "      <th>cpfusuario</th>\n",
       "    </tr>\n",
       "  </thead>\n",
       "  <tbody>\n",
       "  </tbody>\n",
       "</table>\n",
       "</div>"
      ],
      "text/plain": [
       "Empty DataFrame\n",
       "Columns: [nome, dosagem, tipo, intervalo_, medicacaoid, cpfusuario]\n",
       "Index: []"
      ]
     },
     "metadata": {},
     "output_type": "display_data"
    }
   ],
   "source": [
    "# Botões do CRUD com descrição\n",
    "\n",
    "button = widgets.Button(description=\"Cadastrar\")\n",
    "button2 = widgets.Button(description=\"Consultar\", value='Preencha os campos acima para consultar')\n",
    "button3 = widgets.Button(description=\"Atualizar\", value= 'Preencha os campos acima para atualizar')\n",
    "button4 = widgets.Button(description=\"Deletar\", value= 'Preencha os campos acima para deletar')\n",
    "output = widgets.Output()"
   ]
  },
  {
   "cell_type": "markdown",
   "id": "54d67fbb",
   "metadata": {},
   "source": [
    "**Funções Crud**"
   ]
  },
  {
   "cell_type": "code",
   "execution_count": 9,
   "id": "22ad8a00",
   "metadata": {
    "scrolled": true
   },
   "outputs": [
    {
     "data": {
      "application/vnd.jupyter.widget-view+json": {
       "model_id": "051af04dc9ae4dd684b66867498a1599",
       "version_major": 2,
       "version_minor": 0
      },
      "text/plain": [
       "Output()"
      ]
     },
     "execution_count": 9,
     "metadata": {},
     "output_type": "execute_result"
    }
   ],
   "source": [
    "def on_button_insert(b):\n",
    "    try:\n",
    "        cursor = con.cursor()\n",
    "        cursor.execute(\"INSERT INTO medicacao (nome, dosagem, tipo, intervalo_, medicacaoid, cpfusuario) VALUES (%s, %s, %s, %s, %s, %s)\", (nome.value, dosagem.value, tipo.value, intervalo.value, medicacaoid.value, cpfusuario.value))\n",
    "        con.commit()\n",
    "        print(\"Dados inseridos com sucesso!\")\n",
    "    \n",
    "        df = pd.read_sql_query(\"SELECT * FROM medicacao\", con)\n",
    "        \n",
    "        display(nome, dosagem, tipo, intervalo ,medicacaoid, cpfusuario, df)\n",
    "    \n",
    "    except (Exception, pg.Error) as error:\n",
    "        cursor.execute(\"ROLLBACK\")\n",
    "        output.clear_output()\n",
    "        display(nome, dosagem, tipo, intervalo, medicacaoid, cpfusuario)\n",
    "        print(\"Falha ao inserir Medicação\", error)\n",
    "\n",
    "    finally:\n",
    "        cursor.close()\n",
    "        \n",
    "button.on_click(on_button_insert)\n",
    "with output:\n",
    "        display(nome, dosagem, tipo, intervalo, medicacaoid, cpfusuario, button)\n",
    "output"
   ]
  },
  {
   "cell_type": "code",
   "execution_count": 14,
   "id": "cfdd1747",
   "metadata": {},
   "outputs": [
    {
     "data": {
      "application/vnd.jupyter.widget-view+json": {
       "model_id": "16f38356e462400e8dcd1f0b73c05607",
       "version_major": 2,
       "version_minor": 0
      },
      "text/plain": [
       "Output()"
      ]
     },
     "execution_count": 14,
     "metadata": {},
     "output_type": "execute_result"
    }
   ],
   "source": [
    "def on_button2_query(b):\n",
    "    try:\n",
    "        cursor = con.cursor()\n",
    "        cursor.execute(\"SELECT * FROM medicacao WHERE nome = %s\", (nome.value,))\n",
    "        con.commit()\n",
    "        \n",
    "        df = pd.read_sql_query(\"SELECT * FROM medicacao WHERE nome = %s\", con, params=(nome.value,))\n",
    "        \n",
    "        # Exibindo o DataFrame\n",
    "        output.clear_output()\n",
    "        display(nome, df)\n",
    "\n",
    "    except (Exception, pg.Error) as error:\n",
    "        cursor.execute(\"ROLLBACK\")\n",
    "        output.clear_output()\n",
    "        display(nome)\n",
    "        print(\"Falha ao consultar Medicação\", error)\n",
    "\n",
    "    finally:\n",
    "        cursor.close()\n",
    "\n",
    "# Associando a função ao evento de clique do botão\n",
    "button2.on_click(on_button2_query)\n",
    "\n",
    "# Exibindo os widgets e o botão\n",
    "with output:\n",
    "    display(nome, button2)\n",
    "output\n"
   ]
  },
  {
   "cell_type": "code",
   "execution_count": 11,
   "id": "e9f6790d",
   "metadata": {},
   "outputs": [
    {
     "data": {
      "application/vnd.jupyter.widget-view+json": {
       "model_id": "051af04dc9ae4dd684b66867498a1599",
       "version_major": 2,
       "version_minor": 0
      },
      "text/plain": [
       "Output()"
      ]
     },
     "execution_count": 11,
     "metadata": {},
     "output_type": "execute_result"
    }
   ],
   "source": [
    "def on_button3_update(b):\n",
    "    try:\n",
    "        cursor = con.cursor()\n",
    "        cursor.execute(\"UPDATE medicacao SET nome = %s, dosagem = %s, tipo = %s, intervalo_ = %s, cpfusuario = %s WHERE medicacaoid = %s\", (nome.value, dosagem.value, tipo.value, intervalo.value, cpfusuario.value, medicacaoid.value))\n",
    "        con.commit()\n",
    "        df = pd.read_sql_query(\"SELECT * FROM medicacao\", con)\n",
    "        output.clear_output()\n",
    "        display(nome, dosagem, tipo, intervalo, medicacaoid, cpfusuario, df)\n",
    "\n",
    "    except:\n",
    "        cursor.execute(\"ROLLBACK\")\n",
    "        output.clear_output()\n",
    "        display(nome, dosagem, tipo, intervalo, medicacaoid, cpfusuario)\n",
    "        print(\"Não foi possível atualizar a Dados da Medicação\")\n",
    "\n",
    "    finally:\n",
    "        cursor.close()\n",
    "\n",
    "button3.on_click(on_button3_update)\n",
    "with output:\n",
    "        display(nome, dosagem, tipo, intervalo, medicacaoid, cpfusuario, button3)\n",
    "output"
   ]
  },
  {
   "cell_type": "code",
   "execution_count": 12,
   "id": "b459dc59",
   "metadata": {},
   "outputs": [
    {
     "data": {
      "application/vnd.jupyter.widget-view+json": {
       "model_id": "051af04dc9ae4dd684b66867498a1599",
       "version_major": 2,
       "version_minor": 0
      },
      "text/plain": [
       "Output()"
      ]
     },
     "execution_count": 12,
     "metadata": {},
     "output_type": "execute_result"
    }
   ],
   "source": [
    "def on_button4_delete(b):\n",
    "    try:\n",
    "        cursor = con.cursor()\n",
    "        cursor.execute(\"DELETE FROM medicacao WHERE medicacaoid = %s\", (medicacaoid.value,))\n",
    "        rows_deleted = cursor.rowcount\n",
    "        con.commit()\n",
    "        df = pd.read_sql_query(\"SELECT * FROM medicacao\", con)\n",
    "        output.clear_output()\n",
    "        display(medicacaoid, df)\n",
    "\n",
    "    except:\n",
    "        cursor.execute(\"ROLLBACK\")\n",
    "        output.clear_output()\n",
    "        display(medicacaoid)\n",
    "        print(\"Não foi possível deletar Medicação\")\n",
    "\n",
    "    finally:\n",
    "        cursor.close()\n",
    "        \n",
    "button4.on_click(on_button4_delete)\n",
    "with output:\n",
    "        display(medicacaoid, button4)\n",
    "output"
   ]
  },
  {
   "cell_type": "code",
   "execution_count": null,
   "id": "c7805b41",
   "metadata": {},
   "outputs": [],
   "source": []
  }
 ],
 "metadata": {
  "kernelspec": {
   "display_name": "Python 3 (ipykernel)",
   "language": "python",
   "name": "python3"
  },
  "language_info": {
   "codemirror_mode": {
    "name": "ipython",
    "version": 3
   },
   "file_extension": ".py",
   "mimetype": "text/x-python",
   "name": "python",
   "nbconvert_exporter": "python",
   "pygments_lexer": "ipython3",
   "version": "3.10.12"
  }
 },
 "nbformat": 4,
 "nbformat_minor": 5
}
