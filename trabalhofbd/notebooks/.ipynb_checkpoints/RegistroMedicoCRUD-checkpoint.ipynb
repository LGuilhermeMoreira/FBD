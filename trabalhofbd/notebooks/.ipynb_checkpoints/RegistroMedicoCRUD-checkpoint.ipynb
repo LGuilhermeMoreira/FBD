{
 "cells": [
  {
   "cell_type": "markdown",
   "id": "be12d828-743a-42a6-93d3-34f807de1b40",
   "metadata": {},
   "source": [
    "### Import das bibliotecas necessárias"
   ]
  },
  {
   "cell_type": "code",
   "execution_count": 1,
   "id": "752e9b6d-ff07-44c6-acbd-7db60b204491",
   "metadata": {},
   "outputs": [],
   "source": [
    "import psycopg2 as pg\n",
    "import pandas as pd\n",
    "import ipywidgets as widgets\n",
    "from IPython.display import display"
   ]
  },
  {
   "cell_type": "code",
   "execution_count": 2,
   "id": "3ef333a0-2a3a-4f46-823b-ae3d3a4c33b3",
   "metadata": {},
   "outputs": [
    {
     "name": "stdout",
     "output_type": "stream",
     "text": [
      "conexao estabelecida\n"
     ]
    }
   ],
   "source": [
    "try:\n",
    "    conn = pg.connect(database=\"projeto-fbd\", host=\"localhost\", port='5432', user='postgres', password='leader066')\n",
    "    print(\"conexao estabelecida\")\n",
    "except:\n",
    "    print(\"conexao nao estabelecida\")"
   ]
  },
  {
   "cell_type": "code",
   "execution_count": 3,
   "id": "f8a88f92-c0b2-4db6-a877-dbf329028db1",
   "metadata": {},
   "outputs": [],
   "source": [
    "registroId = widgets.IntText(value=0, description='Id:', disabled=False)\n",
    "\n",
    "cpfUsuario = widgets.Text(value='', placeholder='Digite o CPF do usuário', description='CPF:', disabled=False)\n",
    "\n",
    "atividadeId = widgets.IntText(value=0, description='Atividade:', disabled=False)\n",
    "\n",
    "medicacaoId = widgets.IntText(value=0, description='Medicação:', disabled=False)\n",
    "\n",
    "dietaId = widgets.IntText(value=0, description='Dieta:', disabled=False)"
   ]
  },
  {
   "cell_type": "code",
   "execution_count": 4,
   "id": "77b76479-44cb-44b2-92c6-5b8eff6dc9d2",
   "metadata": {},
   "outputs": [],
   "source": [
    "# Criação dos botões\n",
    "createButton = widgets.Button(description=\"Cadastrar\")\n",
    "readButton = widgets.Button(description=\"Consultar\", value='Preencha os campos acima para consultar')\n",
    "updateButton = widgets.Button(description=\"Atualizar\", value= 'Preencha os campos acima para atualizar')\n",
    "deleteButton = widgets.Button(description=\"Deletar\", value= 'Preencha os campos acima para deletar')\n",
    "output = widgets.Output()"
   ]
  },
  {
   "cell_type": "code",
   "execution_count": null,
   "id": "47ea0f3d-e211-4ee1-86d6-e87ef19cd41b",
   "metadata": {},
   "outputs": [],
   "source": [
    "# Declaração das funções\n",
    "\n",
    "# CREATE\n",
    "def onCreateButton(b):\n",
    "\n",
    "    with output:\n",
    "        try:\n",
    "            cursor = conn.cursor()\n",
    "            cursor.execute(\"INSERT INTO registro_medico (registroId, cpfUsuario, atividadeId, medicacaoId, dietaId) VALUES (%s, %s, %s, %s, %s)\", (registroId.value, cpfUsuario.value, atividadeId.value, medicacaoId.value, dietaId.value))\n",
    "            conn.commit()\n",
    "            print(\"Dados inseridos com sucesso!\")\n",
    "            df = pd.read_sql_query(\"SELECT * FROM registro_medico\", conn)\n",
    "            display(df)\n",
    "\n",
    "        except (Exception, pg.Error) as error:\n",
    "            cursor.execute(\"ROLLBACK\")\n",
    "            output.clear_output()\n",
    "            print(\"Falha ao inserir dados\", error)\n",
    "\n",
    "        finally:\n",
    "            cursor.close()\n",
    "\n",
    "createButton.on_click(onCreateButton)\n",
    "display(registroId, cpfUsuario, atividadeId, medicacaoId, dietaId, createButton, output)"
   ]
  },
  {
   "cell_type": "code",
   "execution_count": null,
   "id": "adf0a2d5-6020-49a3-b8d3-ca7e36af6a63",
   "metadata": {},
   "outputs": [],
   "source": [
    "# READ\n",
    "def onReadButton(b):\n",
    "\n",
    "    with output:\n",
    "        try:\n",
    "            cursor = conn.cursor()\n",
    "            df = pd.read_sql_query(\"SELECT * FROM registro_medico WHERE registroId = %s\", conn, params=(registroId.value,))\n",
    "            output.clear_output(wait=True)\n",
    "            display(df)\n",
    "    \n",
    "        except (Exception, pg.Error) as error:\n",
    "            conn.rollback()\n",
    "            output.clear_output()\n",
    "            print(\"Falha ao ler dados\", error)\n",
    "    \n",
    "        finally:\n",
    "            cursor.close()\n",
    "\n",
    "readButton.on_click(onReadButton)\n",
    "display(registroId, readButton, output)"
   ]
  },
  {
   "cell_type": "code",
   "execution_count": null,
   "id": "d5928132-3199-4e70-8c37-72a8f4e2c1c0",
   "metadata": {},
   "outputs": [],
   "source": [
    "# UPDATE\n",
    "def onUpdateButton(b):\n",
    "\n",
    "    with output:\n",
    "        try:\n",
    "            cursor = conn.cursor()\n",
    "            cursor.execute(\"UPDATE registro_medico SET cpfUsuario = %s, atividadeId = %s, medicacaoId = %s, dietaId = %s WHERE registroId = %s\", (cpfUsuario.value, atividadeId.value, medicacaoId.value, dietaId.value, registroId.value))\n",
    "            conn.commit()\n",
    "            print(\"Dados atualizados com sucesso!\")\n",
    "            df = pd.read_sql_query(\"SELECT * FROM registro_medico WHERE registroId = %s\", conn, params=(registroId.value,))\n",
    "            output.clear_output(wait=True)\n",
    "            display(df)\n",
    "            \n",
    "        except (Exception, pg.Error) as error:\n",
    "            cursor.execute(\"ROLLBACK\")\n",
    "            output.clear_output()\n",
    "            print(\"Falha ao atualizar registro\", error)\n",
    "            \n",
    "        finally:\n",
    "            cursor.close()\n",
    "\n",
    "updateButton.on_click(onUpdateButton)\n",
    "display(registroId, cpfUsuario, atividadeId, medicacaoId, dietaId, createButton, output, updateButton, output)"
   ]
  },
  {
   "cell_type": "code",
   "execution_count": null,
   "id": "c8091236-4e01-4e82-9add-0411c1e17d60",
   "metadata": {},
   "outputs": [],
   "source": [
    "# DELETE\n",
    "def onDeleteButton(b):\n",
    "\n",
    "    with output:\n",
    "        try:\n",
    "            cursor = conn.cursor()\n",
    "            cursor.execute(\"DELETE FROM registro_medico WHERE registroId = %s\", (registroId.value,))\n",
    "            conn.commit()\n",
    "            df = pd.read_sql_query(\"SELECT * FROM registro_medico WHERE registroId = %s\", conn, params=(registroId.value,))\n",
    "            \n",
    "        except (Exception, pg.Error) as error:\n",
    "            cursor.execute(\"ROLLBACK\")\n",
    "            output.clear_output()\n",
    "            print(\"Falha deletar registro\", error)\n",
    "            \n",
    "        finally:\n",
    "            cursor.close()\n",
    "\n",
    "deleteButton.on_click(onDeleteButton)\n",
    "display(cpfUsuario, deleteButton, output)"
   ]
  }
 ],
 "metadata": {
  "kernelspec": {
   "display_name": "Python 3 (ipykernel)",
   "language": "python",
   "name": "python3"
  },
  "language_info": {
   "codemirror_mode": {
    "name": "ipython",
    "version": 3
   },
   "file_extension": ".py",
   "mimetype": "text/x-python",
   "name": "python",
   "nbconvert_exporter": "python",
   "pygments_lexer": "ipython3",
   "version": "3.11.4"
  }
 },
 "nbformat": 4,
 "nbformat_minor": 5
}
