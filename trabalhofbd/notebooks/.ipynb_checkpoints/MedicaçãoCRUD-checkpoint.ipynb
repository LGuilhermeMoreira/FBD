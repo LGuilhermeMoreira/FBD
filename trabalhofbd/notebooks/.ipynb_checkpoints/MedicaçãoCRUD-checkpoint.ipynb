{
 "cells": [
  {
   "cell_type": "markdown",
   "id": "72f7dae1",
   "metadata": {},
   "source": [
    "**Bibliotecas Necessárias**"
   ]
  },
  {
   "cell_type": "code",
   "execution_count": 1,
   "id": "fe358e32",
   "metadata": {},
   "outputs": [],
   "source": [
    "import psycopg2 as pg\n",
    "import pandas as pd\n",
    "import ipywidgets as widgets\n",
    "from IPython.display import display"
   ]
  },
  {
   "cell_type": "markdown",
   "id": "2e01cc98",
   "metadata": {},
   "source": [
    "**Conexão com o Banco de Dados PostgreSQL**"
   ]
  },
  {
   "cell_type": "code",
   "execution_count": 2,
   "id": "38ce4a37",
   "metadata": {},
   "outputs": [],
   "source": [
    "con = pg.connect(host='localhost', dbname= 'projeto-fbd', user='postgres', password= 'lxor8uqt')"
   ]
  },
  {
   "cell_type": "markdown",
   "id": "716a1bcc",
   "metadata": {},
   "source": [
    "**Widgets**"
   ]
  },
  {
   "cell_type": "code",
   "execution_count": 3,
   "id": "974f79ac",
   "metadata": {},
   "outputs": [],
   "source": [
    "nome = widgets.Text(\n",
    "    value='', \n",
    "    placeholder = 'Digite o nome da medicação',\n",
    "    description = 'Nome:',\n",
    "    disabled = False\n",
    ")\n",
    "\n",
    "dosagem = widgets.Text(\n",
    "    value = '',\n",
    "    placeholder = 'Digite a dosagem da medicação',\n",
    "    description = 'Dosagem:',\n",
    "    disabled = False\n",
    ")\n",
    "\n",
    "tipo = widgets.Text (\n",
    "    value = '',\n",
    "    placeholder = 'Digite qual o tipo da medicação', \n",
    "    description = 'Tipo: ', \n",
    "    disabled = False\n",
    ")\n",
    "\n",
    "intervalo = widgets.Text (\n",
    "    value = '', \n",
    "    placeholder = 'Digite o intervalo da medicação',\n",
    "    description = 'Intervalo: ',\n",
    "    disabled = False\n",
    ")\n",
    "\n",
    "medicacaoid = widgets.Text(\n",
    "    value = '',\n",
    "    placeholder = 'Digite o ID da medicação',\n",
    "    description = 'ID da Medicação:',\n",
    "    disabled = False\n",
    ")\n",
    "\n",
    "cpfusuario = widgets.Text(\n",
    "    value = '',\n",
    "    placeholder = 'Digite o CPF do usuário',\n",
    "    description = 'CPF do Usuário:',\n",
    "    disabled = False\n",
    ")"
   ]
  },
  {
   "cell_type": "markdown",
   "id": "265bef6f",
   "metadata": {},
   "source": [
    "**Criação dos Botões**"
   ]
  },
  {
   "cell_type": "code",
   "execution_count": 4,
   "id": "7cf865b9",
   "metadata": {},
   "outputs": [],
   "source": [
    "# Botões do CRUD com descrição\n",
    "\n",
    "button = widgets.Button(description=\"Cadastrar\")\n",
    "button2 = widgets.Button(description=\"Consultar\", value='Preencha os campos acima para consultar')\n",
    "button3 = widgets.Button(description=\"Atualizar\", value= 'Preencha os campos acima para atualizar')\n",
    "button4 = widgets.Button(description=\"Deletar\", value= 'Preencha os campos acima para deletar')\n",
    "output = widgets.Output()"
   ]
  },
  {
   "cell_type": "markdown",
   "id": "54d67fbb",
   "metadata": {},
   "source": [
    "**Funções Crud**"
   ]
  },
  {
   "cell_type": "code",
   "execution_count": 5,
   "id": "22ad8a00",
   "metadata": {
    "scrolled": true
   },
   "outputs": [
    {
     "data": {
      "application/vnd.jupyter.widget-view+json": {
       "model_id": "6a5d8b42f1df465e85840ee4628a6989",
       "version_major": 2,
       "version_minor": 0
      },
      "text/plain": [
       "Output()"
      ]
     },
     "execution_count": 5,
     "metadata": {},
     "output_type": "execute_result"
    }
   ],
   "source": [
    "def on_button_insert(b):\n",
    "    try:\n",
    "        cursor = con.cursor()\n",
    "        cursor.execute(\"INSERT INTO medicacao (nome, dosagem, tipo, intervalo, medicacaoid, cpfusuario) VALUES (%s, %s, %s, %s, %s, %s)\", (nome.value, dosagem.value, tipo.value, intervalo.value, medicacaoid.value, cpfusuario.value))\n",
    "        con.commit()\n",
    "        print(\"Dados inseridos com sucesso!\")\n",
    "    \n",
    "        df = pd.read_sql_query(\"SELECT * FROM medicacao\", con)\n",
    "        \n",
    "        display(nome, dosagem, tipo, intervalo ,medicacaoid, cpfusuario, df)\n",
    "    \n",
    "    except (Exception, pg.Error) as error:\n",
    "        cursor.execute(\"ROLLBACK\")\n",
    "        output.clear_output()\n",
    "        display(nome, dosagem, tipo, intervalo, medicacaoid, cpfusuario)\n",
    "        print(\"Falha ao inserir Medicação\", error)\n",
    "\n",
    "    finally:\n",
    "        cursor.close()\n",
    "        \n",
    "button.on_click(on_button_insert)\n",
    "with output:\n",
    "        display(nome, dosagem, tipo, intervalo, medicacaoid, cpfusuario, button)\n",
    "output"
   ]
  },
  {
   "cell_type": "code",
   "execution_count": 22,
   "id": "cfdd1747",
   "metadata": {},
   "outputs": [
    {
     "data": {
      "application/vnd.jupyter.widget-view+json": {
       "model_id": "2c5136aed0a64ebd9b3a220203f70924",
       "version_major": 2,
       "version_minor": 0
      },
      "text/plain": [
       "Output()"
      ]
     },
     "execution_count": 22,
     "metadata": {},
     "output_type": "execute_result"
    }
   ],
   "source": [
    "def on_button2_query(b):\n",
    "    try:\n",
    "        cursor = con.cursor()\n",
    "        cursor.execute(\"SELECT * FROM medicacao WHERE nome = %s\", (nome.value,))\n",
    "        con.commit()\n",
    "        \n",
    "        df = pd.read_sql_query(\"SELECT * FROM medicacao WHERE nome = %s\", con, params=(nome.value,))\n",
    "        \n",
    "        # Exibindo o DataFrame\n",
    "        output.clear_output()\n",
    "        display(nome, df)\n",
    "\n",
    "    except (Exception, pg.Error) as error:\n",
    "        cursor.execute(\"ROLLBACK\")\n",
    "        output.clear_output()\n",
    "        display(nome)\n",
    "        print(\"Falha ao consultar Medicação\", error)\n",
    "\n",
    "    finally:\n",
    "        cursor.close()\n",
    "\n",
    "# Associando a função ao evento de clique do botão\n",
    "button2.on_click(on_button2_query)\n",
    "\n",
    "# Exibindo os widgets e o botão\n",
    "with output:\n",
    "    display(nome, button2)\n",
    "output\n"
   ]
  },
  {
   "cell_type": "code",
   "execution_count": 28,
   "id": "e9f6790d",
   "metadata": {},
   "outputs": [
    {
     "data": {
      "application/vnd.jupyter.widget-view+json": {
       "model_id": "2c5136aed0a64ebd9b3a220203f70924",
       "version_major": 2,
       "version_minor": 0
      },
      "text/plain": [
       "Output()"
      ]
     },
     "execution_count": 28,
     "metadata": {},
     "output_type": "execute_result"
    }
   ],
   "source": [
    "def on_button3_update(b):\n",
    "    try:\n",
    "        cursor = con.cursor()\n",
    "        cursor.execute(\"UPDATE medicacao SET nome = %s, dosagem = %s, tipo = %s, intervalo = %s, cpfusuario = %s WHERE medicacaoid = %s\", (nome.value, dosagem.value, tipo.value, intervalo.value, cpfusuario.value, medicacaoid.value))\n",
    "        con.commit()\n",
    "        df = pd.read_sql_query(\"SELECT * FROM medicacao\", con)\n",
    "        output.clear_output()\n",
    "        display(nome, dosagem, tipo, intervalo, medicacaoid, cpfusuario, df)\n",
    "\n",
    "    except:\n",
    "        cursor.execute(\"ROLLBACK\")\n",
    "        output.clear_output()\n",
    "        display(nome, dosagem, tipo, intervalo, medicacaoid, cpfusuario)\n",
    "        print(\"Não foi possível atualizar a Dados da Medicação\")\n",
    "\n",
    "    finally:\n",
    "        cursor.close()\n",
    "\n",
    "button3.on_click(on_button3_update)\n",
    "with output:\n",
    "        display(nome, dosagem, tipo, intervalo, medicacaoid, cpfusuario, button3)\n",
    "output"
   ]
  },
  {
   "cell_type": "code",
   "execution_count": 8,
   "id": "b459dc59",
   "metadata": {},
   "outputs": [
    {
     "data": {
      "application/vnd.jupyter.widget-view+json": {
       "model_id": "6a5d8b42f1df465e85840ee4628a6989",
       "version_major": 2,
       "version_minor": 0
      },
      "text/plain": [
       "Output(outputs=({'output_type': 'display_data', 'data': {'text/plain': \"Text(value='', description='Nome:', pl…"
      ]
     },
     "execution_count": 8,
     "metadata": {},
     "output_type": "execute_result"
    }
   ],
   "source": [
    "def on_button4_delete(b):\n",
    "    try:\n",
    "        cursor = con.cursor()\n",
    "        cursor.execute(\"DELETE FROM medicacao WHERE medicacaoid = %s\", (medicacaoid.value,))\n",
    "        rows_deleted = cursor.rowcount\n",
    "        con.commit()\n",
    "        df = pd.read_sql_query(\"SELECT * FROM medicacao\", con)\n",
    "        output.clear_output()\n",
    "        display(medicacaoid, df)\n",
    "\n",
    "    except:\n",
    "        cursor.execute(\"ROLLBACK\")\n",
    "        output.clear_output()\n",
    "        display(medicacaoid)\n",
    "        print(\"Não foi possível deletar Medicação\")\n",
    "\n",
    "    finally:\n",
    "        cursor.close()\n",
    "        \n",
    "button4.on_click(on_button4_delete)\n",
    "with output:\n",
    "        display(medicacaoid, button4)\n",
    "output"
   ]
  },
  {
   "cell_type": "code",
   "execution_count": null,
   "id": "c7805b41",
   "metadata": {},
   "outputs": [],
   "source": []
  }
 ],
 "metadata": {
  "kernelspec": {
   "display_name": "Python 3 (ipykernel)",
   "language": "python",
   "name": "python3"
  },
  "language_info": {
   "codemirror_mode": {
    "name": "ipython",
    "version": 3
   },
   "file_extension": ".py",
   "mimetype": "text/x-python",
   "name": "python",
   "nbconvert_exporter": "python",
   "pygments_lexer": "ipython3",
   "version": "3.11.5"
  }
 },
 "nbformat": 4,
 "nbformat_minor": 5
}
