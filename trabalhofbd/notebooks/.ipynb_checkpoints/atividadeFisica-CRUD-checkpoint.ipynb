{
 "cells": [
  {
   "cell_type": "markdown",
   "id": "72f7dae1",
   "metadata": {},
   "source": [
    "**Bibliotecas Necessárias**"
   ]
  },
  {
   "cell_type": "code",
   "execution_count": 1,
   "id": "fe358e32",
   "metadata": {},
   "outputs": [],
   "source": [
    "import psycopg2 as pg\n",
    "import pandas as pd\n",
    "import ipywidgets as widgets\n",
    "from IPython.display import display"
   ]
  },
  {
   "cell_type": "markdown",
   "id": "2e01cc98",
   "metadata": {},
   "source": [
    "**Conexão com o Banco de Dados PostgreSQL**"
   ]
  },
  {
   "cell_type": "code",
   "execution_count": 2,
   "id": "38ce4a37",
   "metadata": {},
   "outputs": [],
   "source": [
    "con = pg.connect(host='localhost', dbname= 'projeto-fbd', user='postgres', password= 'lxor8uqt')"
   ]
  },
  {
   "cell_type": "markdown",
   "id": "716a1bcc",
   "metadata": {},
   "source": [
    "**Widgets**"
   ]
  },
  {
   "cell_type": "code",
   "execution_count": 3,
   "id": "974f79ac",
   "metadata": {},
   "outputs": [],
   "source": [
    "tempo = widgets.Text(\n",
    "    value='',\n",
    "    placeholder = 'Digite o tempo da atividade física',\n",
    "    description = 'Tempo:',\n",
    "    disabled = False\n",
    ")\n",
    "\n",
    "tipo = widgets.Text(\n",
    "    value = '',\n",
    "    placeholder = 'Digite o tipo de atividade física',\n",
    "    description = 'Tipo Atividade Física:',\n",
    "    disabled = False\n",
    ")\n",
    "\n",
    "objetivo = widgets.Text (\n",
    "    value = '',\n",
    "    placeholder = 'Digite qual o objetivo da sua atividade', \n",
    "    description = 'Objetivo: ', \n",
    "    disabled = False\n",
    ")\n",
    "\n",
    "atividadeid = widgets.Text(\n",
    "    value = '',\n",
    "    placeholder = 'Digite o ID da atividade',\n",
    "    description = 'ID da Atividade:',\n",
    "    disabled = False\n",
    ")\n",
    "\n",
    "cpfusuario = widgets.Text(\n",
    "    value = '',\n",
    "    placeholder = 'Digite o CPF do usuário',\n",
    "    description = 'CPF do Usuário:',\n",
    "    disabled = False\n",
    ")"
   ]
  },
  {
   "cell_type": "markdown",
   "id": "265bef6f",
   "metadata": {},
   "source": [
    "**Criação dos Botões**"
   ]
  },
  {
   "cell_type": "code",
   "execution_count": 4,
   "id": "7cf865b9",
   "metadata": {},
   "outputs": [],
   "source": [
    "# Botões do CRUD com descrição\n",
    "\n",
    "button = widgets.Button(description=\"Cadastrar\")\n",
    "button2 = widgets.Button(description=\"Consultar\", value='Preencha os campos acima para consultar')\n",
    "button3 = widgets.Button(description=\"Atualizar\", value= 'Preencha os campos acima para atualizar')\n",
    "button4 = widgets.Button(description=\"Deletar\", value= 'Preencha os campos acima para deletar')\n"
   ]
  },
  {
   "cell_type": "markdown",
   "id": "54d67fbb",
   "metadata": {},
   "source": [
    "**Funções Crud**"
   ]
  },
  {
   "cell_type": "code",
   "execution_count": 28,
   "id": "22ad8a00",
   "metadata": {
    "scrolled": true
   },
   "outputs": [
    {
     "data": {
      "application/vnd.jupyter.widget-view+json": {
       "model_id": "6edb7be27cf649b8b89f995b4ac9b729",
       "version_major": 2,
       "version_minor": 0
      },
      "text/plain": [
       "Output()"
      ]
     },
     "execution_count": 28,
     "metadata": {},
     "output_type": "execute_result"
    }
   ],
   "source": [
    "def on_button_insert(b):\n",
    "    try:\n",
    "        cursor = con.cursor()\n",
    "        cursor.execute(\"INSERT INTO atividade_fisica (tempo, tipo, objetivo, atividadeid, cpfusuario) VALUES (%s, %s, %s, %s, %s)\", (tempo.value, tipo.value, objetivo.value, atividadeid.value, cpfusuario.value))\n",
    "        con.commit()\n",
    "        print(\"Dados inseridos com sucesso!\")\n",
    "    \n",
    "        df = pd.read_sql_query(\"SELECT * FROM atividade_fisica\", con)\n",
    "        \n",
    "        display(tempo, tipo, objetivo, atividadeid, cpfusuario, df)\n",
    "    \n",
    "    except (Exception, pg.Error) as error:\n",
    "        cursor.execute(\"ROLLBACK\")\n",
    "        output.clear_output()\n",
    "        display(tempo, tipo, objetivo, atividadeid, cpfusuario, df)\n",
    "        print(\"Falha ao inserir Atividade Física\", error)\n",
    "\n",
    "    finally:\n",
    "        cursor.close()\n",
    "        \n",
    "button.on_click(on_button_insert)\n",
    "with output:\n",
    "        display(tempo, tipo, objetivo, atividadeid, cpfusuario, button)\n",
    "output"
   ]
  },
  {
   "cell_type": "code",
   "execution_count": 9,
   "id": "cfdd1747",
   "metadata": {},
   "outputs": [
    {
     "data": {
      "application/vnd.jupyter.widget-view+json": {
       "model_id": "39d468dc49b3430597969935f5d2a8e9",
       "version_major": 2,
       "version_minor": 0
      },
      "text/plain": [
       "Output()"
      ]
     },
     "execution_count": 9,
     "metadata": {},
     "output_type": "execute_result"
    }
   ],
   "source": [
    "def on_button2_query(b):\n",
    "    try:\n",
    "        cursor = con.cursor()\n",
    "        cursor.execute(\"SELECT * FROM atividade_fisica WHERE tipo = %s\", (tipo.value,))\n",
    "        con.commit()\n",
    "        \n",
    "        df = pd.read_sql_query(\"SELECT * FROM atividade_fisica WHERE tipo = %s\", con, params=(tipo.value,))\n",
    "        \n",
    "        # Exibindo o DataFrame\n",
    "        output.clear_output()\n",
    "        display(tipo, df)\n",
    "\n",
    "    except (Exception, pg.Error) as error:\n",
    "        cursor.execute(\"ROLLBACK\")\n",
    "        output.clear_output()\n",
    "        display(tipo)\n",
    "        print(\"Falha ao consultar Atividade Física\", error)\n",
    "\n",
    "    finally:\n",
    "        cursor.close()\n",
    "\n",
    "# Associando a função ao evento de clique do botão\n",
    "button2.on_click(on_button2_query)\n",
    "\n",
    "# Exibindo os widgets e o botão\n",
    "with output:\n",
    "    display(tipo, button2)\n",
    "output\n"
   ]
  },
  {
   "cell_type": "code",
   "execution_count": 37,
   "id": "e9f6790d",
   "metadata": {},
   "outputs": [
    {
     "data": {
      "application/vnd.jupyter.widget-view+json": {
       "model_id": "6edb7be27cf649b8b89f995b4ac9b729",
       "version_major": 2,
       "version_minor": 0
      },
      "text/plain": [
       "Output()"
      ]
     },
     "execution_count": 37,
     "metadata": {},
     "output_type": "execute_result"
    }
   ],
   "source": [
    "def on_button3_update(b):\n",
    "    try:\n",
    "        cursor = con.cursor()\n",
    "        cursor.execute(\"UPDATE atividade_fisica SET tempo = %s, tipo = %s, objetivo = %s, cpfusuario = %s WHERE atividadeid = %s\", (tempo.value, tipo.value, objetivo.value, cpfusuario.value, atividadeid.value))\n",
    "        con.commit()\n",
    "        df = pd.read_sql_query(\"SELECT * FROM atividade_fisica\", con)\n",
    "        output.clear_output()\n",
    "        display(tempo, tipo, objetivo, atividadeid, cpfusuario, df)\n",
    "\n",
    "    except:\n",
    "        cursor.execute(\"ROLLBACK\")\n",
    "        output.clear_output()\n",
    "        display(tempo, tipo, objetivo, atividadeid, cpfusuario, df)\n",
    "        print(\"Não foi possível atualizar a Dados da Ativiade Física\")\n",
    "\n",
    "    finally:\n",
    "        cursor.close()\n",
    "\n",
    "button3.on_click(on_button3_update)\n",
    "with output:\n",
    "        display(tempo, tipo, objetivo, atividadeid, cpfusuario, button3)\n",
    "output"
   ]
  },
  {
   "cell_type": "code",
   "execution_count": 8,
   "id": "b459dc59",
   "metadata": {},
   "outputs": [
    {
     "data": {
      "application/vnd.jupyter.widget-view+json": {
       "model_id": "39d468dc49b3430597969935f5d2a8e9",
       "version_major": 2,
       "version_minor": 0
      },
      "text/plain": [
       "Output()"
      ]
     },
     "execution_count": 8,
     "metadata": {},
     "output_type": "execute_result"
    }
   ],
   "source": [
    "def on_button4_delete(b):\n",
    "    try:\n",
    "        cursor = con.cursor()\n",
    "        cursor.execute(\"DELETE FROM atividade_fisica WHERE atividadeid = %s\", (atividadeid.value,))\n",
    "        rows_deleted = cursor.rowcount\n",
    "        con.commit()\n",
    "        df = pd.read_sql_query(\"SELECT * FROM atividade_fisica\", con)\n",
    "        output.clear_output()\n",
    "        display(atividadeid, df)\n",
    "\n",
    "    except:\n",
    "        cursor.execute(\"ROLLBACK\")\n",
    "        output.clear_output()\n",
    "        display(atividadeid)\n",
    "        print(\"Não foi possível deletar Atividade Física\")\n",
    "\n",
    "    finally:\n",
    "        cursor.close()\n",
    "        \n",
    "button4.on_click(on_button4_delete)\n",
    "with output:\n",
    "        display(atividadeid, button4)\n",
    "output"
   ]
  },
  {
   "cell_type": "code",
   "execution_count": null,
   "id": "c7805b41",
   "metadata": {},
   "outputs": [],
   "source": []
  }
 ],
 "metadata": {
  "kernelspec": {
   "display_name": "Python 3 (ipykernel)",
   "language": "python",
   "name": "python3"
  },
  "language_info": {
   "codemirror_mode": {
    "name": "ipython",
    "version": 3
   },
   "file_extension": ".py",
   "mimetype": "text/x-python",
   "name": "python",
   "nbconvert_exporter": "python",
   "pygments_lexer": "ipython3",
   "version": "3.11.5"
  }
 },
 "nbformat": 4,
 "nbformat_minor": 5
}
