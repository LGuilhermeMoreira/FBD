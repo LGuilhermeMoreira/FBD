{
 "cells": [
  {
   "cell_type": "markdown",
   "metadata": {},
   "source": [
    "Importando as bibliotecas necessárias\n"
   ]
  },
  {
   "cell_type": "code",
   "execution_count": 1,
   "metadata": {},
   "outputs": [],
   "source": [
    "import psycopg2 as pg\n",
    "import pandas as pd\n",
    "import ipywidgets as widgets\n",
    "from IPython.display import display"
   ]
  },
  {
   "cell_type": "markdown",
   "metadata": {},
   "source": [
    "Configuração do banco de dados"
   ]
  },
  {
   "cell_type": "code",
   "execution_count": 2,
   "metadata": {},
   "outputs": [
    {
     "name": "stdout",
     "output_type": "stream",
     "text": [
      "conexão concluida\n"
     ]
    }
   ],
   "source": [
    "try:\n",
    "  conn = pg.connect(database=\"projeto-fbd\",host=\"localhost\",port=5432,user='postgres',password='198019')\n",
    "  print('conexão concluida')\n",
    "except(Exception) as error:\n",
    "  #print(error)\n",
    "  print('conexão não concluida')"
   ]
  },
  {
   "cell_type": "markdown",
   "metadata": {},
   "source": [
    "Criando widgets"
   ]
  },
  {
   "cell_type": "code",
   "execution_count": 3,
   "metadata": {},
   "outputs": [],
   "source": [
    "try:\n",
    "    cpf_usuario = widgets.Text(disabled=False, placeholder='CPF do usuário', description='CPF:', value='')\n",
    "    output = widgets.Output()\n",
    "except Exception as error:\n",
    "    print('Erro: ',error)"
   ]
  },
  {
   "cell_type": "markdown",
   "metadata": {},
   "source": [
    "Criando as funções dos botões"
   ]
  },
  {
   "cell_type": "code",
   "execution_count": 4,
   "metadata": {},
   "outputs": [
    {
     "name": "stderr",
     "output_type": "stream",
     "text": [
      "/tmp/ipykernel_7825/1650957895.py:10: UserWarning: pandas only supports SQLAlchemy connectable (engine/connection) or database string URI or sqlite3 DBAPI2 connection. Other DBAPI2 objects are not tested. Please consider using SQLAlchemy.\n",
      "  df = pd.read_sql_query(\"SELECT * FROM AtividadeFisica_Dieta ad WHERE ad.CpfUsuario = %s\", conn, params=(cpf,))\n"
     ]
    },
    {
     "data": {
      "text/html": [
       "<div>\n",
       "<style scoped>\n",
       "    .dataframe tbody tr th:only-of-type {\n",
       "        vertical-align: middle;\n",
       "    }\n",
       "\n",
       "    .dataframe tbody tr th {\n",
       "        vertical-align: top;\n",
       "    }\n",
       "\n",
       "    .dataframe thead th {\n",
       "        text-align: right;\n",
       "    }\n",
       "</style>\n",
       "<table border=\"1\" class=\"dataframe\">\n",
       "  <thead>\n",
       "    <tr style=\"text-align: right;\">\n",
       "      <th></th>\n",
       "      <th>nomeusuario</th>\n",
       "      <th>cpfusuario</th>\n",
       "      <th>alimentos</th>\n",
       "      <th>objetivodieta</th>\n",
       "      <th>tempoatividade</th>\n",
       "      <th>objetivoatividade</th>\n",
       "    </tr>\n",
       "  </thead>\n",
       "  <tbody>\n",
       "    <tr>\n",
       "      <th>0</th>\n",
       "      <td>Felipe</td>\n",
       "      <td>90123456789</td>\n",
       "      <td>Ovos cozidos</td>\n",
       "      <td>Perda de Peso</td>\n",
       "      <td>60 minutos</td>\n",
       "      <td>Ganho de Massa Muscular</td>\n",
       "    </tr>\n",
       "  </tbody>\n",
       "</table>\n",
       "</div>"
      ],
      "text/plain": [
       "  nomeusuario   cpfusuario     alimentos  objetivodieta tempoatividade  \\\n",
       "0      Felipe  90123456789  Ovos cozidos  Perda de Peso     60 minutos   \n",
       "\n",
       "         objetivoatividade  \n",
       "0  Ganho de Massa Muscular  "
      ]
     },
     "metadata": {},
     "output_type": "display_data"
    }
   ],
   "source": [
    "view_button = widgets.Button(description='Visualizar')\n",
    "\n",
    "def visualizar(b):\n",
    "    try:\n",
    "        cpf = str(cpf_usuario.value)\n",
    "\n",
    "        cursor = conn.cursor()\n",
    "        cursor.execute(\"SELECT * FROM AtividadeFisica_Dieta ad WHERE ad.CpfUsuario = %s\", (cpf,))\n",
    "\n",
    "        df = pd.read_sql_query(\"SELECT * FROM AtividadeFisica_Dieta ad WHERE ad.CpfUsuario = %s\", conn, params=(cpf,))\n",
    "\n",
    "        try:\n",
    "            display(df)\n",
    "        except Exception as error:\n",
    "            print('Erro: ',error)\n",
    "    \n",
    "    except Exception as error:\n",
    "        conn.rollback()\n",
    "        print('Erro: ',error)\n",
    "    finally:\n",
    "        conn.commit()\n",
    "        cursor.close()\n",
    "\n",
    "view_button.on_click(visualizar)"
   ]
  },
  {
   "cell_type": "markdown",
   "metadata": {},
   "source": [
    "Visuzaliando os widgets"
   ]
  },
  {
   "cell_type": "code",
   "execution_count": 5,
   "metadata": {},
   "outputs": [
    {
     "data": {
      "application/vnd.jupyter.widget-view+json": {
       "model_id": "ef67c4da6c7a409db4f8fb86b8ac411c",
       "version_major": 2,
       "version_minor": 0
      },
      "text/plain": [
       "Output()"
      ]
     },
     "execution_count": 5,
     "metadata": {},
     "output_type": "execute_result"
    }
   ],
   "source": [
    "with output:\n",
    "    display(cpf_usuario)\n",
    "    display(view_button)\n",
    "output"
   ]
  }
 ],
 "metadata": {
  "kernelspec": {
   "display_name": "Python 3",
   "language": "python",
   "name": "python3"
  },
  "language_info": {
   "codemirror_mode": {
    "name": "ipython",
    "version": 3
   },
   "file_extension": ".py",
   "mimetype": "text/x-python",
   "name": "python",
   "nbconvert_exporter": "python",
   "pygments_lexer": "ipython3",
   "version": "3.10.12"
  }
 },
 "nbformat": 4,
 "nbformat_minor": 2
}
