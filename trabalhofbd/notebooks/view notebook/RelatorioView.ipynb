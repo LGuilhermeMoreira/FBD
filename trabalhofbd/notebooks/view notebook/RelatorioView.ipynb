{
 "cells": [
  {
   "cell_type": "markdown",
   "id": "076b3d18-aae1-41b0-a92e-b17275fd6e9d",
   "metadata": {},
   "source": [
    "### Import das bibliotecas necessárias"
   ]
  },
  {
   "cell_type": "code",
   "execution_count": 1,
   "id": "5267b9c3-54a5-4b8b-83f8-8b98e7ebb5ef",
   "metadata": {},
   "outputs": [],
   "source": [
    "import psycopg2 as pg\n",
    "import pandas as pd\n",
    "import ipywidgets as widgets\n",
    "from IPython.display import display"
   ]
  },
  {
   "cell_type": "markdown",
   "id": "f2aebb0b-47c1-4209-b372-5e9b52fa85c9",
   "metadata": {},
   "source": [
    "### Configuração da conexão com o banco de dados PostgreSQL"
   ]
  },
  {
   "cell_type": "code",
   "execution_count": 2,
   "id": "442af748-e43c-449d-926f-cd39d9922708",
   "metadata": {},
   "outputs": [
    {
     "name": "stdout",
     "output_type": "stream",
     "text": [
      "conexao estabelecida\n"
     ]
    }
   ],
   "source": [
    "try:\n",
    "    conn = pg.connect(database=\"projeto-fbd\", host=\"localhost\", port='5432', user='postgres', password='leader066')\n",
    "    print(\"conexao estabelecida\")\n",
    "except:\n",
    "    print(\"conexao nao estabelecida\")"
   ]
  },
  {
   "cell_type": "markdown",
   "id": "1cc81ceb-92ad-409b-b429-993da8962c4c",
   "metadata": {},
   "source": [
    "### Criação dos widgets"
   ]
  },
  {
   "cell_type": "code",
   "execution_count": 3,
   "id": "978470bb-612a-42dc-824c-eb898fa107b3",
   "metadata": {},
   "outputs": [],
   "source": [
    "registroId = widgets.IntText(value=0, description='Id:', disabled=False)\n",
    "\n",
    "cpfUsuario = widgets.Text(value='', placeholder='CPF do usuário', description='CPF:', disabled=False)\n",
    "\n",
    "nomeUsuario = widgets.Text(value='', placeholder='Nome do usuário', description='Nome:', disabled=False)\n",
    "\n",
    "medNome = widgets.Text(value='', placeholder='Nome da medicação', description='Medicação:', disabled=False)\n",
    "\n",
    "tipoMed = widgets.Text(value='', placeholder='Tipo da medicação', description='Tipo da Medicação:', disabled=False)\n",
    "\n",
    "PossiveisDoencas = widgets.Text(value='', placeholder='Possíveis doenças', description='Possíveis doenças:', disabled=False)"
   ]
  },
  {
   "cell_type": "markdown",
   "id": "ea10984d-c060-4890-9a60-11bd754799ad",
   "metadata": {},
   "source": [
    "### Criação dos botões"
   ]
  },
  {
   "cell_type": "code",
   "execution_count": 6,
   "id": "521167c1-ad64-4d47-8fcf-d22499e3e219",
   "metadata": {},
   "outputs": [],
   "source": [
    "readButton = widgets.Button(description=\"Consultar\", value='Preencha os campos acima para consultar')\n",
    "output = widgets.Output()"
   ]
  },
  {
   "cell_type": "markdown",
   "id": "ee36bfad-fe06-4ed4-809f-5cc7c0ed7abf",
   "metadata": {},
   "source": [
    "### Declaração das funções para os botões"
   ]
  },
  {
   "cell_type": "code",
   "execution_count": 7,
   "id": "0fce2297-e222-4d50-8148-e7a444f4708d",
   "metadata": {},
   "outputs": [
    {
     "data": {
      "application/vnd.jupyter.widget-view+json": {
       "model_id": "90b2711906fe435f86c3d7cf88d2f733",
       "version_major": 2,
       "version_minor": 0
      },
      "text/plain": [
       "Text(value='', description='CPF:', placeholder='CPF do usuário')"
      ]
     },
     "metadata": {},
     "output_type": "display_data"
    },
    {
     "data": {
      "application/vnd.jupyter.widget-view+json": {
       "model_id": "d4cd4c05d5a14ab280b71651a650f8b4",
       "version_major": 2,
       "version_minor": 0
      },
      "text/plain": [
       "Button(description='Consultar', style=ButtonStyle())"
      ]
     },
     "metadata": {},
     "output_type": "display_data"
    },
    {
     "data": {
      "application/vnd.jupyter.widget-view+json": {
       "model_id": "195da692dfea4af09204b7ad7e91f4bf",
       "version_major": 2,
       "version_minor": 0
      },
      "text/plain": [
       "Output()"
      ]
     },
     "metadata": {},
     "output_type": "display_data"
    }
   ],
   "source": [
    "# READ\n",
    "def onReadButton(b):\n",
    "\n",
    "    with output:\n",
    "        try:\n",
    "            cursor = conn.cursor()\n",
    "            #cursor.execute(\"SELECT * FROM Usuario WHERE cpfUsuario = %s\", (cpfUsuario.value))\n",
    "            #conn.commit()\n",
    "            df = pd.read_sql_query(\"SELECT * FROM RelatorioView WHERE cpfUsuario = %s\", conn, params=(cpfUsuario.value,))\n",
    "            output.clear_output(wait=True)\n",
    "            display(df)\n",
    "    \n",
    "        except (Exception, pg.Error) as error:\n",
    "            conn.rollback()\n",
    "            output.clear_output()\n",
    "            print(\"Falha ao ler dados\", error)\n",
    "    \n",
    "        finally:\n",
    "            cursor.close()\n",
    "\n",
    "readButton.on_click(onReadButton)\n",
    "display(cpfUsuario, readButton, output)"
   ]
  },
  {
   "cell_type": "code",
   "execution_count": null,
   "id": "b80fea2e-780f-428e-8132-c501f123e706",
   "metadata": {},
   "outputs": [],
   "source": []
  }
 ],
 "metadata": {
  "kernelspec": {
   "display_name": "Python 3 (ipykernel)",
   "language": "python",
   "name": "python3"
  },
  "language_info": {
   "codemirror_mode": {
    "name": "ipython",
    "version": 3
   },
   "file_extension": ".py",
   "mimetype": "text/x-python",
   "name": "python",
   "nbconvert_exporter": "python",
   "pygments_lexer": "ipython3",
   "version": "3.11.4"
  }
 },
 "nbformat": 4,
 "nbformat_minor": 5
}
