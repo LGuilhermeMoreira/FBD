{
 "cells": [
  {
   "cell_type": "markdown",
   "id": "6cb335ad",
   "metadata": {},
   "source": [
    "**Bibliotecas necessárias**"
   ]
  },
  {
   "cell_type": "code",
   "execution_count": 27,
   "id": "25c40407",
   "metadata": {},
   "outputs": [],
   "source": [
    "import psycopg2 as pg\n",
    "import pandas as pd\n",
    "import ipywidgets as widgets\n",
    "from IPython.display import display"
   ]
  },
  {
   "cell_type": "markdown",
   "id": "c1e18ab9",
   "metadata": {},
   "source": [
    "**Conexão com o Banco de Dados PostgreSQL**"
   ]
  },
  {
   "cell_type": "code",
   "execution_count": 28,
   "id": "07a4164f",
   "metadata": {},
   "outputs": [],
   "source": [
    "con = pg.connect(host='localhost', dbname= 'projeto-fbd', user='postgres', password= 'lxor8uqt')"
   ]
  },
  {
   "cell_type": "markdown",
   "id": "a45b1c45",
   "metadata": {},
   "source": [
    "**Widgets**"
   ]
  },
  {
   "cell_type": "code",
   "execution_count": 29,
   "id": "cfb22a1a",
   "metadata": {},
   "outputs": [],
   "source": [
    "cpf_usuario = widgets.Text(\n",
    "    value = '',\n",
    "    placeholder = 'Digite o CPF do usuário',\n",
    "    description = 'CPF do Usuário:',\n",
    "    disabled = False\n",
    ")"
   ]
  },
  {
   "cell_type": "markdown",
   "id": "087c0f28",
   "metadata": {},
   "source": [
    "**Botões**"
   ]
  },
  {
   "cell_type": "code",
   "execution_count": 30,
   "id": "1dccd88d",
   "metadata": {},
   "outputs": [],
   "source": [
    "button2 = widgets.Button(description=\"Consultar\", value='Preencha os campos acima para consultar')\n",
    "output = widgets.Output()"
   ]
  },
  {
   "cell_type": "markdown",
   "id": "c7e4185e",
   "metadata": {},
   "source": [
    "**Funções View**"
   ]
  },
  {
   "cell_type": "code",
   "execution_count": 31,
   "id": "55b4a44d",
   "metadata": {},
   "outputs": [
    {
     "data": {
      "application/vnd.jupyter.widget-view+json": {
       "model_id": "03ba869b97e845b8b614f7306840c440",
       "version_major": 2,
       "version_minor": 0
      },
      "text/plain": [
       "Output()"
      ]
     },
     "execution_count": 31,
     "metadata": {},
     "output_type": "execute_result"
    }
   ],
   "source": [
    "def on_button2_query(b):\n",
    "    try:\n",
    "        cursor = con.cursor()\n",
    "        cursor.execute(\"SELECT * FROM resumoatividademedicacao WHERE cpf_usuario = %s\", (cpf_usuario.value,))\n",
    "        con.commit()\n",
    "        \n",
    "        df = pd.read_sql_query(\"SELECT * FROM resumoatividademedicacao WHERE cpf_usuario = %s\", con, params=(cpf_usuario.value,))\n",
    "        \n",
    "        # Exibindo o DataFrame\n",
    "        output.clear_output()\n",
    "        display(cpf_usuario, df)\n",
    "\n",
    "    except (Exception, pg.Error) as error:\n",
    "        cursor.execute(\"ROLLBACK\")\n",
    "        output.clear_output()\n",
    "        display(cpf_usuario)\n",
    "        print(\"Falha ao consultar resumo do Usuário\", error)\n",
    "\n",
    "    finally:\n",
    "        cursor.close()\n",
    "\n",
    "# Associando a função ao evento de clique do botão\n",
    "button2.on_click(on_button2_query)\n",
    "\n",
    "# Exibindo os widgets e o botão\n",
    "with output:\n",
    "    display(cpf_usuario, button2)\n",
    "output\n"
   ]
  },
  {
   "cell_type": "code",
   "execution_count": null,
   "id": "42535155",
   "metadata": {},
   "outputs": [],
   "source": []
  }
 ],
 "metadata": {
  "kernelspec": {
   "display_name": "Python 3 (ipykernel)",
   "language": "python",
   "name": "python3"
  },
  "language_info": {
   "codemirror_mode": {
    "name": "ipython",
    "version": 3
   },
   "file_extension": ".py",
   "mimetype": "text/x-python",
   "name": "python",
   "nbconvert_exporter": "python",
   "pygments_lexer": "ipython3",
   "version": "3.11.5"
  }
 },
 "nbformat": 4,
 "nbformat_minor": 5
}
